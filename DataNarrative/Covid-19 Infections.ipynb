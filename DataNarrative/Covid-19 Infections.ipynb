{
 "cells": [
  {
   "cell_type": "markdown",
   "metadata": {},
   "source": [
    "# Covid-19 Infections\n",
    "\n",
    "## 1 Analysis of Google Trends\n",
    "Analysis of the searches related to the Covid-19 symptoms on Google Trends."
   ]
  },
  {
   "cell_type": "code",
   "execution_count": 302,
   "metadata": {},
   "outputs": [
    {
     "data": {
      "text/html": [
       "<div>\n",
       "<style scoped>\n",
       "    .dataframe tbody tr th:only-of-type {\n",
       "        vertical-align: middle;\n",
       "    }\n",
       "\n",
       "    .dataframe tbody tr th {\n",
       "        vertical-align: top;\n",
       "    }\n",
       "\n",
       "    .dataframe thead th {\n",
       "        text-align: right;\n",
       "    }\n",
       "</style>\n",
       "<table border=\"1\" class=\"dataframe\">\n",
       "  <thead>\n",
       "    <tr style=\"text-align: right;\">\n",
       "      <th></th>\n",
       "      <th>Week</th>\n",
       "      <th>sore throat</th>\n",
       "    </tr>\n",
       "  </thead>\n",
       "  <tbody>\n",
       "    <tr>\n",
       "      <th>0</th>\n",
       "      <td>2016-09-11</td>\n",
       "      <td>18</td>\n",
       "    </tr>\n",
       "    <tr>\n",
       "      <th>1</th>\n",
       "      <td>2016-09-18</td>\n",
       "      <td>26</td>\n",
       "    </tr>\n",
       "    <tr>\n",
       "      <th>2</th>\n",
       "      <td>2016-09-25</td>\n",
       "      <td>41</td>\n",
       "    </tr>\n",
       "    <tr>\n",
       "      <th>3</th>\n",
       "      <td>2016-10-02</td>\n",
       "      <td>41</td>\n",
       "    </tr>\n",
       "    <tr>\n",
       "      <th>4</th>\n",
       "      <td>2016-10-09</td>\n",
       "      <td>34</td>\n",
       "    </tr>\n",
       "  </tbody>\n",
       "</table>\n",
       "</div>"
      ],
      "text/plain": [
       "         Week  sore throat\n",
       "0  2016-09-11           18\n",
       "1  2016-09-18           26\n",
       "2  2016-09-25           41\n",
       "3  2016-10-02           41\n",
       "4  2016-10-09           34"
      ]
     },
     "execution_count": 302,
     "metadata": {},
     "output_type": "execute_result"
    }
   ],
   "source": [
    "import pandas as pd\n",
    "\n",
    "names = ['cough', 'sore throat', 'conjunctivitis', 'fever']\n",
    "name = 'sore throat'\n",
    "\n",
    "df = pd.read_csv('source/'+ name +'.csv')\n",
    "df.head()"
   ]
  },
  {
   "cell_type": "code",
   "execution_count": 303,
   "metadata": {},
   "outputs": [],
   "source": [
    "width = 800\n",
    "height = 300\n",
    "title = 'Interest over time for the term ' + name.upper()"
   ]
  },
  {
   "cell_type": "code",
   "execution_count": 304,
   "metadata": {},
   "outputs": [],
   "source": [
    "from datetime import datetime\n",
    "\n",
    "date_list = pd.date_range(start=df['Week'].min(), end=df['Week'].max(), freq='MS').tolist()\n",
    "date_list = [date_obj.strftime('%Y-%m-%d') for date_obj in date_list]"
   ]
  },
  {
   "cell_type": "code",
   "execution_count": 305,
   "metadata": {},
   "outputs": [],
   "source": [
    "import altair as alt"
   ]
  },
  {
   "cell_type": "code",
   "execution_count": 306,
   "metadata": {},
   "outputs": [
    {
     "data": {
      "text/html": [
       "<div>\n",
       "<style scoped>\n",
       "    .dataframe tbody tr th:only-of-type {\n",
       "        vertical-align: middle;\n",
       "    }\n",
       "\n",
       "    .dataframe tbody tr th {\n",
       "        vertical-align: top;\n",
       "    }\n",
       "\n",
       "    .dataframe thead th {\n",
       "        text-align: right;\n",
       "    }\n",
       "</style>\n",
       "<table border=\"1\" class=\"dataframe\">\n",
       "  <thead>\n",
       "    <tr style=\"text-align: right;\">\n",
       "      <th></th>\n",
       "      <th>Week</th>\n",
       "      <th>color</th>\n",
       "    </tr>\n",
       "  </thead>\n",
       "  <tbody>\n",
       "    <tr>\n",
       "      <th>0</th>\n",
       "      <td>2020-02-17</td>\n",
       "      <td>green</td>\n",
       "    </tr>\n",
       "    <tr>\n",
       "      <th>1</th>\n",
       "      <td>2020-03-28</td>\n",
       "      <td>green</td>\n",
       "    </tr>\n",
       "  </tbody>\n",
       "</table>\n",
       "</div>"
      ],
      "text/plain": [
       "        Week  color\n",
       "0 2020-02-17  green\n",
       "1 2020-03-28  green"
      ]
     },
     "execution_count": 306,
     "metadata": {},
     "output_type": "execute_result"
    }
   ],
   "source": [
    "from datetime import datetime, timedelta\n",
    "\n",
    "peak = df[df[name] == df[name].max()]\n",
    "peak_date = datetime. strptime(peak['Week'].iloc[0], '%Y-%m-%d')\n",
    "\n",
    "\n",
    "days = 20\n",
    "d1 = peak_date - timedelta(days=days)\n",
    "d2 = peak_date + timedelta(days=days)\n",
    "interval = [d1, d2]\n",
    "df_peak = pd.DataFrame(interval, columns=['Week'])\n",
    "df_peak['color'] = ['green','green']\n",
    "df_peak"
   ]
  },
  {
   "cell_type": "code",
   "execution_count": 307,
   "metadata": {},
   "outputs": [
    {
     "data": {
      "text/html": [
       "<div>\n",
       "<style scoped>\n",
       "    .dataframe tbody tr th:only-of-type {\n",
       "        vertical-align: middle;\n",
       "    }\n",
       "\n",
       "    .dataframe tbody tr th {\n",
       "        vertical-align: top;\n",
       "    }\n",
       "\n",
       "    .dataframe thead th {\n",
       "        text-align: right;\n",
       "    }\n",
       "</style>\n",
       "<table border=\"1\" class=\"dataframe\">\n",
       "  <thead>\n",
       "    <tr style=\"text-align: right;\">\n",
       "      <th></th>\n",
       "      <th>start</th>\n",
       "      <th>stop</th>\n",
       "      <th>index</th>\n",
       "    </tr>\n",
       "  </thead>\n",
       "  <tbody>\n",
       "    <tr>\n",
       "      <th>0</th>\n",
       "      <td>2020-02-17</td>\n",
       "      <td>2020-03-28</td>\n",
       "      <td>darkgreen</td>\n",
       "    </tr>\n",
       "  </tbody>\n",
       "</table>\n",
       "</div>"
      ],
      "text/plain": [
       "       start       stop      index\n",
       "0 2020-02-17 2020-03-28  darkgreen"
      ]
     },
     "execution_count": 307,
     "metadata": {},
     "output_type": "execute_result"
    }
   ],
   "source": [
    "cutoff = pd.DataFrame({\n",
    "    'start': [d1],\n",
    "    'stop': [d2],\n",
    "    'index' : ['darkgreen']\n",
    "})\n",
    "cutoff"
   ]
  },
  {
   "cell_type": "code",
   "execution_count": 308,
   "metadata": {},
   "outputs": [],
   "source": [
    "areas = alt.Chart(\n",
    "    cutoff.reset_index()\n",
    ").mark_rect(\n",
    "    opacity=0.2\n",
    ").encode(\n",
    "    x='start:O',\n",
    "    x2='stop:O',\n",
    "    y=alt.value(0),  # pixels from top\n",
    "    y2=alt.value(height),  # pixels from top\n",
    "    color=alt.Color('index:Q', scale=None)\n",
    ")"
   ]
  },
  {
   "cell_type": "code",
   "execution_count": 309,
   "metadata": {},
   "outputs": [
    {
     "data": {
      "text/html": [
       "\n",
       "<div id=\"altair-viz-5f5a8b7feff04c0f9c55db5a68b45c8e\"></div>\n",
       "<script type=\"text/javascript\">\n",
       "  (function(spec, embedOpt){\n",
       "    let outputDiv = document.currentScript.previousElementSibling;\n",
       "    if (outputDiv.id !== \"altair-viz-5f5a8b7feff04c0f9c55db5a68b45c8e\") {\n",
       "      outputDiv = document.getElementById(\"altair-viz-5f5a8b7feff04c0f9c55db5a68b45c8e\");\n",
       "    }\n",
       "    const paths = {\n",
       "      \"vega\": \"https://cdn.jsdelivr.net/npm//vega@5?noext\",\n",
       "      \"vega-lib\": \"https://cdn.jsdelivr.net/npm//vega-lib?noext\",\n",
       "      \"vega-lite\": \"https://cdn.jsdelivr.net/npm//vega-lite@4.8.1?noext\",\n",
       "      \"vega-embed\": \"https://cdn.jsdelivr.net/npm//vega-embed@6?noext\",\n",
       "    };\n",
       "\n",
       "    function loadScript(lib) {\n",
       "      return new Promise(function(resolve, reject) {\n",
       "        var s = document.createElement('script');\n",
       "        s.src = paths[lib];\n",
       "        s.async = true;\n",
       "        s.onload = () => resolve(paths[lib]);\n",
       "        s.onerror = () => reject(`Error loading script: ${paths[lib]}`);\n",
       "        document.getElementsByTagName(\"head\")[0].appendChild(s);\n",
       "      });\n",
       "    }\n",
       "\n",
       "    function showError(err) {\n",
       "      outputDiv.innerHTML = `<div class=\"error\" style=\"color:red;\">${err}</div>`;\n",
       "      throw err;\n",
       "    }\n",
       "\n",
       "    function displayChart(vegaEmbed) {\n",
       "      vegaEmbed(outputDiv, spec, embedOpt)\n",
       "        .catch(err => showError(`Javascript Error: ${err.message}<br>This usually means there's a typo in your chart specification. See the javascript console for the full traceback.`));\n",
       "    }\n",
       "\n",
       "    if(typeof define === \"function\" && define.amd) {\n",
       "      requirejs.config({paths});\n",
       "      require([\"vega-embed\"], displayChart, err => showError(`Error loading script: ${err.message}`));\n",
       "    } else if (typeof vegaEmbed === \"function\") {\n",
       "      displayChart(vegaEmbed);\n",
       "    } else {\n",
       "      loadScript(\"vega\")\n",
       "        .then(() => loadScript(\"vega-lite\"))\n",
       "        .then(() => loadScript(\"vega-embed\"))\n",
       "        .catch(showError)\n",
       "        .then(() => displayChart(vegaEmbed));\n",
       "    }\n",
       "  })({\"config\": {\"view\": {\"continuousWidth\": 400, \"continuousHeight\": 300}}, \"data\": {\"name\": \"data-55671a41d42e602b223f77548e739a6a\"}, \"mark\": {\"type\": \"text\", \"align\": \"left\", \"baseline\": \"middle\", \"color\": \"darkgreen\", \"dx\": 0, \"lineBreak\": \"\\n\", \"text\": \"There was a a peak in searches \\nduring the first lockdown \\ndue to the Covid-19 pandemic\", \"x\": 600, \"y\": 45}, \"encoding\": {}, \"$schema\": \"https://vega.github.io/schema/vega-lite/v4.8.1.json\", \"datasets\": {\"data-55671a41d42e602b223f77548e739a6a\": [{\"Week\": \"2016-09-11\", \"sore throat\": 18}, {\"Week\": \"2016-09-18\", \"sore throat\": 26}, {\"Week\": \"2016-09-25\", \"sore throat\": 41}, {\"Week\": \"2016-10-02\", \"sore throat\": 41}, {\"Week\": \"2016-10-09\", \"sore throat\": 34}, {\"Week\": \"2016-10-16\", \"sore throat\": 33}, {\"Week\": \"2016-10-23\", \"sore throat\": 35}, {\"Week\": \"2016-10-30\", \"sore throat\": 29}, {\"Week\": \"2016-11-06\", \"sore throat\": 34}, {\"Week\": \"2016-11-13\", \"sore throat\": 37}, {\"Week\": \"2016-11-20\", \"sore throat\": 34}, {\"Week\": \"2016-11-27\", \"sore throat\": 34}, {\"Week\": \"2016-12-04\", \"sore throat\": 37}, {\"Week\": \"2016-12-11\", \"sore throat\": 39}, {\"Week\": \"2016-12-18\", \"sore throat\": 42}, {\"Week\": \"2016-12-25\", \"sore throat\": 57}, {\"Week\": \"2017-01-01\", \"sore throat\": 53}, {\"Week\": \"2017-01-08\", \"sore throat\": 40}, {\"Week\": \"2017-01-15\", \"sore throat\": 29}, {\"Week\": \"2017-01-22\", \"sore throat\": 34}, {\"Week\": \"2017-01-29\", \"sore throat\": 29}, {\"Week\": \"2017-02-05\", \"sore throat\": 33}, {\"Week\": \"2017-02-12\", \"sore throat\": 41}, {\"Week\": \"2017-02-19\", \"sore throat\": 35}, {\"Week\": \"2017-02-26\", \"sore throat\": 40}, {\"Week\": \"2017-03-05\", \"sore throat\": 34}, {\"Week\": \"2017-03-12\", \"sore throat\": 35}, {\"Week\": \"2017-03-19\", \"sore throat\": 37}, {\"Week\": \"2017-03-26\", \"sore throat\": 34}, {\"Week\": \"2017-04-02\", \"sore throat\": 33}, {\"Week\": \"2017-04-09\", \"sore throat\": 34}, {\"Week\": \"2017-04-16\", \"sore throat\": 29}, {\"Week\": \"2017-04-23\", \"sore throat\": 31}, {\"Week\": \"2017-04-30\", \"sore throat\": 28}, {\"Week\": \"2017-05-07\", \"sore throat\": 37}, {\"Week\": \"2017-05-14\", \"sore throat\": 28}, {\"Week\": \"2017-05-21\", \"sore throat\": 25}, {\"Week\": \"2017-05-28\", \"sore throat\": 30}, {\"Week\": \"2017-06-04\", \"sore throat\": 23}, {\"Week\": \"2017-06-11\", \"sore throat\": 18}, {\"Week\": \"2017-06-18\", \"sore throat\": 24}, {\"Week\": \"2017-06-25\", \"sore throat\": 19}, {\"Week\": \"2017-07-02\", \"sore throat\": 23}, {\"Week\": \"2017-07-09\", \"sore throat\": 16}, {\"Week\": \"2017-07-16\", \"sore throat\": 14}, {\"Week\": \"2017-07-23\", \"sore throat\": 15}, {\"Week\": \"2017-07-30\", \"sore throat\": 20}, {\"Week\": \"2017-08-06\", \"sore throat\": 21}, {\"Week\": \"2017-08-13\", \"sore throat\": 32}, {\"Week\": \"2017-08-20\", \"sore throat\": 27}, {\"Week\": \"2017-08-27\", \"sore throat\": 21}, {\"Week\": \"2017-09-03\", \"sore throat\": 22}, {\"Week\": \"2017-09-10\", \"sore throat\": 23}, {\"Week\": \"2017-09-17\", \"sore throat\": 32}, {\"Week\": \"2017-09-24\", \"sore throat\": 38}, {\"Week\": \"2017-10-01\", \"sore throat\": 43}, {\"Week\": \"2017-10-08\", \"sore throat\": 44}, {\"Week\": \"2017-10-15\", \"sore throat\": 32}, {\"Week\": \"2017-10-22\", \"sore throat\": 31}, {\"Week\": \"2017-10-29\", \"sore throat\": 31}, {\"Week\": \"2017-11-05\", \"sore throat\": 35}, {\"Week\": \"2017-11-12\", \"sore throat\": 30}, {\"Week\": \"2017-11-19\", \"sore throat\": 29}, {\"Week\": \"2017-11-26\", \"sore throat\": 41}, {\"Week\": \"2017-12-03\", \"sore throat\": 33}, {\"Week\": \"2017-12-10\", \"sore throat\": 37}, {\"Week\": \"2017-12-17\", \"sore throat\": 48}, {\"Week\": \"2017-12-24\", \"sore throat\": 60}, {\"Week\": \"2017-12-31\", \"sore throat\": 60}, {\"Week\": \"2018-01-07\", \"sore throat\": 50}, {\"Week\": \"2018-01-14\", \"sore throat\": 33}, {\"Week\": \"2018-01-21\", \"sore throat\": 41}, {\"Week\": \"2018-01-28\", \"sore throat\": 43}, {\"Week\": \"2018-02-04\", \"sore throat\": 28}, {\"Week\": \"2018-02-11\", \"sore throat\": 33}, {\"Week\": \"2018-02-18\", \"sore throat\": 42}, {\"Week\": \"2018-02-25\", \"sore throat\": 36}, {\"Week\": \"2018-03-04\", \"sore throat\": 28}, {\"Week\": \"2018-03-11\", \"sore throat\": 31}, {\"Week\": \"2018-03-18\", \"sore throat\": 37}, {\"Week\": \"2018-03-25\", \"sore throat\": 34}, {\"Week\": \"2018-04-01\", \"sore throat\": 34}, {\"Week\": \"2018-04-08\", \"sore throat\": 30}, {\"Week\": \"2018-04-15\", \"sore throat\": 29}, {\"Week\": \"2018-04-22\", \"sore throat\": 34}, {\"Week\": \"2018-04-29\", \"sore throat\": 30}, {\"Week\": \"2018-05-06\", \"sore throat\": 26}, {\"Week\": \"2018-05-13\", \"sore throat\": 29}, {\"Week\": \"2018-05-20\", \"sore throat\": 30}, {\"Week\": \"2018-05-27\", \"sore throat\": 26}, {\"Week\": \"2018-06-03\", \"sore throat\": 23}, {\"Week\": \"2018-06-10\", \"sore throat\": 21}, {\"Week\": \"2018-06-17\", \"sore throat\": 26}, {\"Week\": \"2018-06-24\", \"sore throat\": 22}, {\"Week\": \"2018-07-01\", \"sore throat\": 21}, {\"Week\": \"2018-07-08\", \"sore throat\": 21}, {\"Week\": \"2018-07-15\", \"sore throat\": 17}, {\"Week\": \"2018-07-22\", \"sore throat\": 21}, {\"Week\": \"2018-07-29\", \"sore throat\": 28}, {\"Week\": \"2018-08-05\", \"sore throat\": 28}, {\"Week\": \"2018-08-12\", \"sore throat\": 27}, {\"Week\": \"2018-08-19\", \"sore throat\": 28}, {\"Week\": \"2018-08-26\", \"sore throat\": 26}, {\"Week\": \"2018-09-02\", \"sore throat\": 23}, {\"Week\": \"2018-09-09\", \"sore throat\": 27}, {\"Week\": \"2018-09-16\", \"sore throat\": 31}, {\"Week\": \"2018-09-23\", \"sore throat\": 33}, {\"Week\": \"2018-09-30\", \"sore throat\": 36}, {\"Week\": \"2018-10-07\", \"sore throat\": 40}, {\"Week\": \"2018-10-14\", \"sore throat\": 36}, {\"Week\": \"2018-10-21\", \"sore throat\": 37}, {\"Week\": \"2018-10-28\", \"sore throat\": 24}, {\"Week\": \"2018-11-04\", \"sore throat\": 28}, {\"Week\": \"2018-11-11\", \"sore throat\": 35}, {\"Week\": \"2018-11-18\", \"sore throat\": 33}, {\"Week\": \"2018-11-25\", \"sore throat\": 34}, {\"Week\": \"2018-12-02\", \"sore throat\": 35}, {\"Week\": \"2018-12-09\", \"sore throat\": 34}, {\"Week\": \"2018-12-16\", \"sore throat\": 46}, {\"Week\": \"2018-12-23\", \"sore throat\": 50}, {\"Week\": \"2018-12-30\", \"sore throat\": 44}, {\"Week\": \"2019-01-06\", \"sore throat\": 33}, {\"Week\": \"2019-01-13\", \"sore throat\": 39}, {\"Week\": \"2019-01-20\", \"sore throat\": 41}, {\"Week\": \"2019-01-27\", \"sore throat\": 38}, {\"Week\": \"2019-02-03\", \"sore throat\": 37}, {\"Week\": \"2019-02-10\", \"sore throat\": 41}, {\"Week\": \"2019-02-17\", \"sore throat\": 38}, {\"Week\": \"2019-02-24\", \"sore throat\": 29}, {\"Week\": \"2019-03-03\", \"sore throat\": 37}, {\"Week\": \"2019-03-10\", \"sore throat\": 32}, {\"Week\": \"2019-03-17\", \"sore throat\": 32}, {\"Week\": \"2019-03-24\", \"sore throat\": 39}, {\"Week\": \"2019-03-31\", \"sore throat\": 37}, {\"Week\": \"2019-04-07\", \"sore throat\": 34}, {\"Week\": \"2019-04-14\", \"sore throat\": 32}, {\"Week\": \"2019-04-21\", \"sore throat\": 28}, {\"Week\": \"2019-04-28\", \"sore throat\": 31}, {\"Week\": \"2019-05-05\", \"sore throat\": 25}, {\"Week\": \"2019-05-12\", \"sore throat\": 29}, {\"Week\": \"2019-05-19\", \"sore throat\": 23}, {\"Week\": \"2019-05-26\", \"sore throat\": 25}, {\"Week\": \"2019-06-02\", \"sore throat\": 30}, {\"Week\": \"2019-06-09\", \"sore throat\": 23}, {\"Week\": \"2019-06-16\", \"sore throat\": 25}, {\"Week\": \"2019-06-23\", \"sore throat\": 23}, {\"Week\": \"2019-06-30\", \"sore throat\": 17}, {\"Week\": \"2019-07-07\", \"sore throat\": 20}, {\"Week\": \"2019-07-14\", \"sore throat\": 20}, {\"Week\": \"2019-07-21\", \"sore throat\": 18}, {\"Week\": \"2019-07-28\", \"sore throat\": 18}, {\"Week\": \"2019-08-04\", \"sore throat\": 17}, {\"Week\": \"2019-08-11\", \"sore throat\": 17}, {\"Week\": \"2019-08-18\", \"sore throat\": 21}, {\"Week\": \"2019-08-25\", \"sore throat\": 23}, {\"Week\": \"2019-09-01\", \"sore throat\": 25}, {\"Week\": \"2019-09-08\", \"sore throat\": 18}, {\"Week\": \"2019-09-15\", \"sore throat\": 27}, {\"Week\": \"2019-09-22\", \"sore throat\": 38}, {\"Week\": \"2019-09-29\", \"sore throat\": 35}, {\"Week\": \"2019-10-06\", \"sore throat\": 39}, {\"Week\": \"2019-10-13\", \"sore throat\": 29}, {\"Week\": \"2019-10-20\", \"sore throat\": 29}, {\"Week\": \"2019-10-27\", \"sore throat\": 30}, {\"Week\": \"2019-11-03\", \"sore throat\": 37}, {\"Week\": \"2019-11-10\", \"sore throat\": 31}, {\"Week\": \"2019-11-17\", \"sore throat\": 32}, {\"Week\": \"2019-11-24\", \"sore throat\": 36}, {\"Week\": \"2019-12-01\", \"sore throat\": 35}, {\"Week\": \"2019-12-08\", \"sore throat\": 42}, {\"Week\": \"2019-12-15\", \"sore throat\": 35}, {\"Week\": \"2019-12-22\", \"sore throat\": 58}, {\"Week\": \"2019-12-29\", \"sore throat\": 48}, {\"Week\": \"2020-01-05\", \"sore throat\": 44}, {\"Week\": \"2020-01-12\", \"sore throat\": 39}, {\"Week\": \"2020-01-19\", \"sore throat\": 44}, {\"Week\": \"2020-01-26\", \"sore throat\": 44}, {\"Week\": \"2020-02-02\", \"sore throat\": 38}, {\"Week\": \"2020-02-09\", \"sore throat\": 40}, {\"Week\": \"2020-02-16\", \"sore throat\": 48}, {\"Week\": \"2020-02-23\", \"sore throat\": 61}, {\"Week\": \"2020-03-01\", \"sore throat\": 72}, {\"Week\": \"2020-03-08\", \"sore throat\": 100}, {\"Week\": \"2020-03-15\", \"sore throat\": 63}, {\"Week\": \"2020-03-22\", \"sore throat\": 44}, {\"Week\": \"2020-03-29\", \"sore throat\": 37}, {\"Week\": \"2020-04-05\", \"sore throat\": 30}, {\"Week\": \"2020-04-12\", \"sore throat\": 29}, {\"Week\": \"2020-04-19\", \"sore throat\": 22}, {\"Week\": \"2020-04-26\", \"sore throat\": 21}, {\"Week\": \"2020-05-03\", \"sore throat\": 22}, {\"Week\": \"2020-05-10\", \"sore throat\": 20}, {\"Week\": \"2020-05-17\", \"sore throat\": 20}, {\"Week\": \"2020-05-24\", \"sore throat\": 22}, {\"Week\": \"2020-05-31\", \"sore throat\": 16}, {\"Week\": \"2020-06-07\", \"sore throat\": 14}, {\"Week\": \"2020-06-14\", \"sore throat\": 17}, {\"Week\": \"2020-06-21\", \"sore throat\": 15}, {\"Week\": \"2020-06-28\", \"sore throat\": 11}, {\"Week\": \"2020-07-05\", \"sore throat\": 20}, {\"Week\": \"2020-07-12\", \"sore throat\": 13}, {\"Week\": \"2020-07-19\", \"sore throat\": 24}, {\"Week\": \"2020-07-26\", \"sore throat\": 32}, {\"Week\": \"2020-08-02\", \"sore throat\": 42}, {\"Week\": \"2020-08-09\", \"sore throat\": 48}, {\"Week\": \"2020-08-16\", \"sore throat\": 54}, {\"Week\": \"2020-08-23\", \"sore throat\": 46}, {\"Week\": \"2020-08-30\", \"sore throat\": 37}, {\"Week\": \"2020-09-06\", \"sore throat\": 26}, {\"Week\": \"2020-09-13\", \"sore throat\": 27}, {\"Week\": \"2020-09-20\", \"sore throat\": 36}, {\"Week\": \"2020-09-27\", \"sore throat\": 37}, {\"Week\": \"2020-10-04\", \"sore throat\": 51}, {\"Week\": \"2020-10-11\", \"sore throat\": 59}, {\"Week\": \"2020-10-18\", \"sore throat\": 60}, {\"Week\": \"2020-10-25\", \"sore throat\": 46}, {\"Week\": \"2020-11-01\", \"sore throat\": 32}, {\"Week\": \"2020-11-08\", \"sore throat\": 38}, {\"Week\": \"2020-11-15\", \"sore throat\": 37}, {\"Week\": \"2020-11-22\", \"sore throat\": 29}, {\"Week\": \"2020-11-29\", \"sore throat\": 23}, {\"Week\": \"2020-12-06\", \"sore throat\": 26}, {\"Week\": \"2020-12-13\", \"sore throat\": 23}, {\"Week\": \"2020-12-20\", \"sore throat\": 29}, {\"Week\": \"2020-12-27\", \"sore throat\": 27}, {\"Week\": \"2021-01-03\", \"sore throat\": 22}, {\"Week\": \"2021-01-10\", \"sore throat\": 21}, {\"Week\": \"2021-01-17\", \"sore throat\": 23}, {\"Week\": \"2021-01-24\", \"sore throat\": 27}, {\"Week\": \"2021-01-31\", \"sore throat\": 27}, {\"Week\": \"2021-02-07\", \"sore throat\": 33}, {\"Week\": \"2021-02-14\", \"sore throat\": 34}, {\"Week\": \"2021-02-21\", \"sore throat\": 36}, {\"Week\": \"2021-02-28\", \"sore throat\": 33}, {\"Week\": \"2021-03-07\", \"sore throat\": 29}, {\"Week\": \"2021-03-14\", \"sore throat\": 28}, {\"Week\": \"2021-03-21\", \"sore throat\": 31}, {\"Week\": \"2021-03-28\", \"sore throat\": 25}, {\"Week\": \"2021-04-04\", \"sore throat\": 20}, {\"Week\": \"2021-04-11\", \"sore throat\": 20}, {\"Week\": \"2021-04-18\", \"sore throat\": 22}, {\"Week\": \"2021-04-25\", \"sore throat\": 29}, {\"Week\": \"2021-05-02\", \"sore throat\": 27}, {\"Week\": \"2021-05-09\", \"sore throat\": 26}, {\"Week\": \"2021-05-16\", \"sore throat\": 30}, {\"Week\": \"2021-05-23\", \"sore throat\": 27}, {\"Week\": \"2021-05-30\", \"sore throat\": 28}, {\"Week\": \"2021-06-06\", \"sore throat\": 19}, {\"Week\": \"2021-06-13\", \"sore throat\": 24}, {\"Week\": \"2021-06-20\", \"sore throat\": 26}, {\"Week\": \"2021-06-27\", \"sore throat\": 27}, {\"Week\": \"2021-07-04\", \"sore throat\": 25}, {\"Week\": \"2021-07-11\", \"sore throat\": 27}, {\"Week\": \"2021-07-18\", \"sore throat\": 44}, {\"Week\": \"2021-07-25\", \"sore throat\": 44}, {\"Week\": \"2021-08-01\", \"sore throat\": 39}, {\"Week\": \"2021-08-08\", \"sore throat\": 39}, {\"Week\": \"2021-08-15\", \"sore throat\": 48}, {\"Week\": \"2021-08-22\", \"sore throat\": 37}, {\"Week\": \"2021-08-29\", \"sore throat\": 37}, {\"Week\": \"2021-09-05\", \"sore throat\": 37}]}}, {\"mode\": \"vega-lite\"});\n",
       "</script>"
      ],
      "text/plain": [
       "alt.Chart(...)"
      ]
     },
     "execution_count": 309,
     "metadata": {},
     "output_type": "execute_result"
    }
   ],
   "source": [
    "txt = \"There was a a peak in searches \\nduring the first lockdown \\ndue to the Covid-19 pandemic\"\n",
    "text = alt.Chart(df\n",
    ").mark_text(x=600, y=45, dx=0, lineBreak='\\n',color='darkgreen',align='left',baseline='middle',text=txt,\n",
    ").encode()\n",
    "\n",
    "text"
   ]
  },
  {
   "cell_type": "code",
   "execution_count": 310,
   "metadata": {},
   "outputs": [],
   "source": [
    "line = alt.Chart(df).mark_line().encode(\n",
    "    alt.Y(name, title=None, axis=None),\n",
    "    alt.X('Week:O', title=None, axis=alt.Axis(labelAngle=-45,ticks=False)),\n",
    "    tooltip=[alt.Tooltip('Week:O', title='Date'), alt.Tooltip(name, format=',', title=name)],\n",
    "    color = alt.value('darkgrey')\n",
    ").properties(title=title,width=width,height=height)"
   ]
  },
  {
   "cell_type": "code",
   "execution_count": 311,
   "metadata": {},
   "outputs": [
    {
     "data": {
      "text/html": [
       "\n",
       "<div id=\"altair-viz-9715ee9512a544cab1b16dda06528bf3\"></div>\n",
       "<script type=\"text/javascript\">\n",
       "  (function(spec, embedOpt){\n",
       "    let outputDiv = document.currentScript.previousElementSibling;\n",
       "    if (outputDiv.id !== \"altair-viz-9715ee9512a544cab1b16dda06528bf3\") {\n",
       "      outputDiv = document.getElementById(\"altair-viz-9715ee9512a544cab1b16dda06528bf3\");\n",
       "    }\n",
       "    const paths = {\n",
       "      \"vega\": \"https://cdn.jsdelivr.net/npm//vega@5?noext\",\n",
       "      \"vega-lib\": \"https://cdn.jsdelivr.net/npm//vega-lib?noext\",\n",
       "      \"vega-lite\": \"https://cdn.jsdelivr.net/npm//vega-lite@4.8.1?noext\",\n",
       "      \"vega-embed\": \"https://cdn.jsdelivr.net/npm//vega-embed@6?noext\",\n",
       "    };\n",
       "\n",
       "    function loadScript(lib) {\n",
       "      return new Promise(function(resolve, reject) {\n",
       "        var s = document.createElement('script');\n",
       "        s.src = paths[lib];\n",
       "        s.async = true;\n",
       "        s.onload = () => resolve(paths[lib]);\n",
       "        s.onerror = () => reject(`Error loading script: ${paths[lib]}`);\n",
       "        document.getElementsByTagName(\"head\")[0].appendChild(s);\n",
       "      });\n",
       "    }\n",
       "\n",
       "    function showError(err) {\n",
       "      outputDiv.innerHTML = `<div class=\"error\" style=\"color:red;\">${err}</div>`;\n",
       "      throw err;\n",
       "    }\n",
       "\n",
       "    function displayChart(vegaEmbed) {\n",
       "      vegaEmbed(outputDiv, spec, embedOpt)\n",
       "        .catch(err => showError(`Javascript Error: ${err.message}<br>This usually means there's a typo in your chart specification. See the javascript console for the full traceback.`));\n",
       "    }\n",
       "\n",
       "    if(typeof define === \"function\" && define.amd) {\n",
       "      requirejs.config({paths});\n",
       "      require([\"vega-embed\"], displayChart, err => showError(`Error loading script: ${err.message}`));\n",
       "    } else if (typeof vegaEmbed === \"function\") {\n",
       "      displayChart(vegaEmbed);\n",
       "    } else {\n",
       "      loadScript(\"vega\")\n",
       "        .then(() => loadScript(\"vega-lite\"))\n",
       "        .then(() => loadScript(\"vega-embed\"))\n",
       "        .catch(showError)\n",
       "        .then(() => displayChart(vegaEmbed));\n",
       "    }\n",
       "  })({\"config\": {\"view\": {\"continuousWidth\": 400, \"continuousHeight\": 300}}, \"layer\": [{\"data\": {\"name\": \"data-55671a41d42e602b223f77548e739a6a\"}, \"mark\": \"line\", \"encoding\": {\"color\": {\"value\": \"darkgrey\"}, \"tooltip\": [{\"type\": \"ordinal\", \"field\": \"Week\", \"title\": \"Date\"}, {\"type\": \"quantitative\", \"field\": \"sore throat\", \"format\": \",\", \"title\": \"sore throat\"}], \"x\": {\"type\": \"ordinal\", \"axis\": {\"labelAngle\": -45, \"ticks\": false}, \"field\": \"Week\", \"title\": null}, \"y\": {\"type\": \"quantitative\", \"axis\": null, \"field\": \"sore throat\", \"title\": null}}, \"height\": 300, \"title\": \"Interest over time for the term SORE THROAT\", \"width\": 800}, {\"data\": {\"name\": \"data-480d8492cb717fa0ae3fc3cc4341caa8\"}, \"mark\": {\"type\": \"rect\", \"opacity\": 0.2}, \"encoding\": {\"color\": {\"type\": \"quantitative\", \"field\": \"index\", \"scale\": null}, \"x\": {\"type\": \"ordinal\", \"field\": \"start\"}, \"x2\": {\"field\": \"stop\"}, \"y\": {\"value\": 0}, \"y2\": {\"value\": 300}}}, {\"data\": {\"name\": \"data-55671a41d42e602b223f77548e739a6a\"}, \"mark\": {\"type\": \"text\", \"align\": \"left\", \"baseline\": \"middle\", \"color\": \"darkgreen\", \"dx\": 0, \"lineBreak\": \"\\n\", \"text\": \"There was a a peak in searches \\nduring the first lockdown \\ndue to the Covid-19 pandemic\", \"x\": 600, \"y\": 45}, \"encoding\": {}}], \"height\": 300, \"title\": \"Interest over time for the term SORE THROAT\", \"width\": 800, \"$schema\": \"https://vega.github.io/schema/vega-lite/v4.8.1.json\", \"datasets\": {\"data-55671a41d42e602b223f77548e739a6a\": [{\"Week\": \"2016-09-11\", \"sore throat\": 18}, {\"Week\": \"2016-09-18\", \"sore throat\": 26}, {\"Week\": \"2016-09-25\", \"sore throat\": 41}, {\"Week\": \"2016-10-02\", \"sore throat\": 41}, {\"Week\": \"2016-10-09\", \"sore throat\": 34}, {\"Week\": \"2016-10-16\", \"sore throat\": 33}, {\"Week\": \"2016-10-23\", \"sore throat\": 35}, {\"Week\": \"2016-10-30\", \"sore throat\": 29}, {\"Week\": \"2016-11-06\", \"sore throat\": 34}, {\"Week\": \"2016-11-13\", \"sore throat\": 37}, {\"Week\": \"2016-11-20\", \"sore throat\": 34}, {\"Week\": \"2016-11-27\", \"sore throat\": 34}, {\"Week\": \"2016-12-04\", \"sore throat\": 37}, {\"Week\": \"2016-12-11\", \"sore throat\": 39}, {\"Week\": \"2016-12-18\", \"sore throat\": 42}, {\"Week\": \"2016-12-25\", \"sore throat\": 57}, {\"Week\": \"2017-01-01\", \"sore throat\": 53}, {\"Week\": \"2017-01-08\", \"sore throat\": 40}, {\"Week\": \"2017-01-15\", \"sore throat\": 29}, {\"Week\": \"2017-01-22\", \"sore throat\": 34}, {\"Week\": \"2017-01-29\", \"sore throat\": 29}, {\"Week\": \"2017-02-05\", \"sore throat\": 33}, {\"Week\": \"2017-02-12\", \"sore throat\": 41}, {\"Week\": \"2017-02-19\", \"sore throat\": 35}, {\"Week\": \"2017-02-26\", \"sore throat\": 40}, {\"Week\": \"2017-03-05\", \"sore throat\": 34}, {\"Week\": \"2017-03-12\", \"sore throat\": 35}, {\"Week\": \"2017-03-19\", \"sore throat\": 37}, {\"Week\": \"2017-03-26\", \"sore throat\": 34}, {\"Week\": \"2017-04-02\", \"sore throat\": 33}, {\"Week\": \"2017-04-09\", \"sore throat\": 34}, {\"Week\": \"2017-04-16\", \"sore throat\": 29}, {\"Week\": \"2017-04-23\", \"sore throat\": 31}, {\"Week\": \"2017-04-30\", \"sore throat\": 28}, {\"Week\": \"2017-05-07\", \"sore throat\": 37}, {\"Week\": \"2017-05-14\", \"sore throat\": 28}, {\"Week\": \"2017-05-21\", \"sore throat\": 25}, {\"Week\": \"2017-05-28\", \"sore throat\": 30}, {\"Week\": \"2017-06-04\", \"sore throat\": 23}, {\"Week\": \"2017-06-11\", \"sore throat\": 18}, {\"Week\": \"2017-06-18\", \"sore throat\": 24}, {\"Week\": \"2017-06-25\", \"sore throat\": 19}, {\"Week\": \"2017-07-02\", \"sore throat\": 23}, {\"Week\": \"2017-07-09\", \"sore throat\": 16}, {\"Week\": \"2017-07-16\", \"sore throat\": 14}, {\"Week\": \"2017-07-23\", \"sore throat\": 15}, {\"Week\": \"2017-07-30\", \"sore throat\": 20}, {\"Week\": \"2017-08-06\", \"sore throat\": 21}, {\"Week\": \"2017-08-13\", \"sore throat\": 32}, {\"Week\": \"2017-08-20\", \"sore throat\": 27}, {\"Week\": \"2017-08-27\", \"sore throat\": 21}, {\"Week\": \"2017-09-03\", \"sore throat\": 22}, {\"Week\": \"2017-09-10\", \"sore throat\": 23}, {\"Week\": \"2017-09-17\", \"sore throat\": 32}, {\"Week\": \"2017-09-24\", \"sore throat\": 38}, {\"Week\": \"2017-10-01\", \"sore throat\": 43}, {\"Week\": \"2017-10-08\", \"sore throat\": 44}, {\"Week\": \"2017-10-15\", \"sore throat\": 32}, {\"Week\": \"2017-10-22\", \"sore throat\": 31}, {\"Week\": \"2017-10-29\", \"sore throat\": 31}, {\"Week\": \"2017-11-05\", \"sore throat\": 35}, {\"Week\": \"2017-11-12\", \"sore throat\": 30}, {\"Week\": \"2017-11-19\", \"sore throat\": 29}, {\"Week\": \"2017-11-26\", \"sore throat\": 41}, {\"Week\": \"2017-12-03\", \"sore throat\": 33}, {\"Week\": \"2017-12-10\", \"sore throat\": 37}, {\"Week\": \"2017-12-17\", \"sore throat\": 48}, {\"Week\": \"2017-12-24\", \"sore throat\": 60}, {\"Week\": \"2017-12-31\", \"sore throat\": 60}, {\"Week\": \"2018-01-07\", \"sore throat\": 50}, {\"Week\": \"2018-01-14\", \"sore throat\": 33}, {\"Week\": \"2018-01-21\", \"sore throat\": 41}, {\"Week\": \"2018-01-28\", \"sore throat\": 43}, {\"Week\": \"2018-02-04\", \"sore throat\": 28}, {\"Week\": \"2018-02-11\", \"sore throat\": 33}, {\"Week\": \"2018-02-18\", \"sore throat\": 42}, {\"Week\": \"2018-02-25\", \"sore throat\": 36}, {\"Week\": \"2018-03-04\", \"sore throat\": 28}, {\"Week\": \"2018-03-11\", \"sore throat\": 31}, {\"Week\": \"2018-03-18\", \"sore throat\": 37}, {\"Week\": \"2018-03-25\", \"sore throat\": 34}, {\"Week\": \"2018-04-01\", \"sore throat\": 34}, {\"Week\": \"2018-04-08\", \"sore throat\": 30}, {\"Week\": \"2018-04-15\", \"sore throat\": 29}, {\"Week\": \"2018-04-22\", \"sore throat\": 34}, {\"Week\": \"2018-04-29\", \"sore throat\": 30}, {\"Week\": \"2018-05-06\", \"sore throat\": 26}, {\"Week\": \"2018-05-13\", \"sore throat\": 29}, {\"Week\": \"2018-05-20\", \"sore throat\": 30}, {\"Week\": \"2018-05-27\", \"sore throat\": 26}, {\"Week\": \"2018-06-03\", \"sore throat\": 23}, {\"Week\": \"2018-06-10\", \"sore throat\": 21}, {\"Week\": \"2018-06-17\", \"sore throat\": 26}, {\"Week\": \"2018-06-24\", \"sore throat\": 22}, {\"Week\": \"2018-07-01\", \"sore throat\": 21}, {\"Week\": \"2018-07-08\", \"sore throat\": 21}, {\"Week\": \"2018-07-15\", \"sore throat\": 17}, {\"Week\": \"2018-07-22\", \"sore throat\": 21}, {\"Week\": \"2018-07-29\", \"sore throat\": 28}, {\"Week\": \"2018-08-05\", \"sore throat\": 28}, {\"Week\": \"2018-08-12\", \"sore throat\": 27}, {\"Week\": \"2018-08-19\", \"sore throat\": 28}, {\"Week\": \"2018-08-26\", \"sore throat\": 26}, {\"Week\": \"2018-09-02\", \"sore throat\": 23}, {\"Week\": \"2018-09-09\", \"sore throat\": 27}, {\"Week\": \"2018-09-16\", \"sore throat\": 31}, {\"Week\": \"2018-09-23\", \"sore throat\": 33}, {\"Week\": \"2018-09-30\", \"sore throat\": 36}, {\"Week\": \"2018-10-07\", \"sore throat\": 40}, {\"Week\": \"2018-10-14\", \"sore throat\": 36}, {\"Week\": \"2018-10-21\", \"sore throat\": 37}, {\"Week\": \"2018-10-28\", \"sore throat\": 24}, {\"Week\": \"2018-11-04\", \"sore throat\": 28}, {\"Week\": \"2018-11-11\", \"sore throat\": 35}, {\"Week\": \"2018-11-18\", \"sore throat\": 33}, {\"Week\": \"2018-11-25\", \"sore throat\": 34}, {\"Week\": \"2018-12-02\", \"sore throat\": 35}, {\"Week\": \"2018-12-09\", \"sore throat\": 34}, {\"Week\": \"2018-12-16\", \"sore throat\": 46}, {\"Week\": \"2018-12-23\", \"sore throat\": 50}, {\"Week\": \"2018-12-30\", \"sore throat\": 44}, {\"Week\": \"2019-01-06\", \"sore throat\": 33}, {\"Week\": \"2019-01-13\", \"sore throat\": 39}, {\"Week\": \"2019-01-20\", \"sore throat\": 41}, {\"Week\": \"2019-01-27\", \"sore throat\": 38}, {\"Week\": \"2019-02-03\", \"sore throat\": 37}, {\"Week\": \"2019-02-10\", \"sore throat\": 41}, {\"Week\": \"2019-02-17\", \"sore throat\": 38}, {\"Week\": \"2019-02-24\", \"sore throat\": 29}, {\"Week\": \"2019-03-03\", \"sore throat\": 37}, {\"Week\": \"2019-03-10\", \"sore throat\": 32}, {\"Week\": \"2019-03-17\", \"sore throat\": 32}, {\"Week\": \"2019-03-24\", \"sore throat\": 39}, {\"Week\": \"2019-03-31\", \"sore throat\": 37}, {\"Week\": \"2019-04-07\", \"sore throat\": 34}, {\"Week\": \"2019-04-14\", \"sore throat\": 32}, {\"Week\": \"2019-04-21\", \"sore throat\": 28}, {\"Week\": \"2019-04-28\", \"sore throat\": 31}, {\"Week\": \"2019-05-05\", \"sore throat\": 25}, {\"Week\": \"2019-05-12\", \"sore throat\": 29}, {\"Week\": \"2019-05-19\", \"sore throat\": 23}, {\"Week\": \"2019-05-26\", \"sore throat\": 25}, {\"Week\": \"2019-06-02\", \"sore throat\": 30}, {\"Week\": \"2019-06-09\", \"sore throat\": 23}, {\"Week\": \"2019-06-16\", \"sore throat\": 25}, {\"Week\": \"2019-06-23\", \"sore throat\": 23}, {\"Week\": \"2019-06-30\", \"sore throat\": 17}, {\"Week\": \"2019-07-07\", \"sore throat\": 20}, {\"Week\": \"2019-07-14\", \"sore throat\": 20}, {\"Week\": \"2019-07-21\", \"sore throat\": 18}, {\"Week\": \"2019-07-28\", \"sore throat\": 18}, {\"Week\": \"2019-08-04\", \"sore throat\": 17}, {\"Week\": \"2019-08-11\", \"sore throat\": 17}, {\"Week\": \"2019-08-18\", \"sore throat\": 21}, {\"Week\": \"2019-08-25\", \"sore throat\": 23}, {\"Week\": \"2019-09-01\", \"sore throat\": 25}, {\"Week\": \"2019-09-08\", \"sore throat\": 18}, {\"Week\": \"2019-09-15\", \"sore throat\": 27}, {\"Week\": \"2019-09-22\", \"sore throat\": 38}, {\"Week\": \"2019-09-29\", \"sore throat\": 35}, {\"Week\": \"2019-10-06\", \"sore throat\": 39}, {\"Week\": \"2019-10-13\", \"sore throat\": 29}, {\"Week\": \"2019-10-20\", \"sore throat\": 29}, {\"Week\": \"2019-10-27\", \"sore throat\": 30}, {\"Week\": \"2019-11-03\", \"sore throat\": 37}, {\"Week\": \"2019-11-10\", \"sore throat\": 31}, {\"Week\": \"2019-11-17\", \"sore throat\": 32}, {\"Week\": \"2019-11-24\", \"sore throat\": 36}, {\"Week\": \"2019-12-01\", \"sore throat\": 35}, {\"Week\": \"2019-12-08\", \"sore throat\": 42}, {\"Week\": \"2019-12-15\", \"sore throat\": 35}, {\"Week\": \"2019-12-22\", \"sore throat\": 58}, {\"Week\": \"2019-12-29\", \"sore throat\": 48}, {\"Week\": \"2020-01-05\", \"sore throat\": 44}, {\"Week\": \"2020-01-12\", \"sore throat\": 39}, {\"Week\": \"2020-01-19\", \"sore throat\": 44}, {\"Week\": \"2020-01-26\", \"sore throat\": 44}, {\"Week\": \"2020-02-02\", \"sore throat\": 38}, {\"Week\": \"2020-02-09\", \"sore throat\": 40}, {\"Week\": \"2020-02-16\", \"sore throat\": 48}, {\"Week\": \"2020-02-23\", \"sore throat\": 61}, {\"Week\": \"2020-03-01\", \"sore throat\": 72}, {\"Week\": \"2020-03-08\", \"sore throat\": 100}, {\"Week\": \"2020-03-15\", \"sore throat\": 63}, {\"Week\": \"2020-03-22\", \"sore throat\": 44}, {\"Week\": \"2020-03-29\", \"sore throat\": 37}, {\"Week\": \"2020-04-05\", \"sore throat\": 30}, {\"Week\": \"2020-04-12\", \"sore throat\": 29}, {\"Week\": \"2020-04-19\", \"sore throat\": 22}, {\"Week\": \"2020-04-26\", \"sore throat\": 21}, {\"Week\": \"2020-05-03\", \"sore throat\": 22}, {\"Week\": \"2020-05-10\", \"sore throat\": 20}, {\"Week\": \"2020-05-17\", \"sore throat\": 20}, {\"Week\": \"2020-05-24\", \"sore throat\": 22}, {\"Week\": \"2020-05-31\", \"sore throat\": 16}, {\"Week\": \"2020-06-07\", \"sore throat\": 14}, {\"Week\": \"2020-06-14\", \"sore throat\": 17}, {\"Week\": \"2020-06-21\", \"sore throat\": 15}, {\"Week\": \"2020-06-28\", \"sore throat\": 11}, {\"Week\": \"2020-07-05\", \"sore throat\": 20}, {\"Week\": \"2020-07-12\", \"sore throat\": 13}, {\"Week\": \"2020-07-19\", \"sore throat\": 24}, {\"Week\": \"2020-07-26\", \"sore throat\": 32}, {\"Week\": \"2020-08-02\", \"sore throat\": 42}, {\"Week\": \"2020-08-09\", \"sore throat\": 48}, {\"Week\": \"2020-08-16\", \"sore throat\": 54}, {\"Week\": \"2020-08-23\", \"sore throat\": 46}, {\"Week\": \"2020-08-30\", \"sore throat\": 37}, {\"Week\": \"2020-09-06\", \"sore throat\": 26}, {\"Week\": \"2020-09-13\", \"sore throat\": 27}, {\"Week\": \"2020-09-20\", \"sore throat\": 36}, {\"Week\": \"2020-09-27\", \"sore throat\": 37}, {\"Week\": \"2020-10-04\", \"sore throat\": 51}, {\"Week\": \"2020-10-11\", \"sore throat\": 59}, {\"Week\": \"2020-10-18\", \"sore throat\": 60}, {\"Week\": \"2020-10-25\", \"sore throat\": 46}, {\"Week\": \"2020-11-01\", \"sore throat\": 32}, {\"Week\": \"2020-11-08\", \"sore throat\": 38}, {\"Week\": \"2020-11-15\", \"sore throat\": 37}, {\"Week\": \"2020-11-22\", \"sore throat\": 29}, {\"Week\": \"2020-11-29\", \"sore throat\": 23}, {\"Week\": \"2020-12-06\", \"sore throat\": 26}, {\"Week\": \"2020-12-13\", \"sore throat\": 23}, {\"Week\": \"2020-12-20\", \"sore throat\": 29}, {\"Week\": \"2020-12-27\", \"sore throat\": 27}, {\"Week\": \"2021-01-03\", \"sore throat\": 22}, {\"Week\": \"2021-01-10\", \"sore throat\": 21}, {\"Week\": \"2021-01-17\", \"sore throat\": 23}, {\"Week\": \"2021-01-24\", \"sore throat\": 27}, {\"Week\": \"2021-01-31\", \"sore throat\": 27}, {\"Week\": \"2021-02-07\", \"sore throat\": 33}, {\"Week\": \"2021-02-14\", \"sore throat\": 34}, {\"Week\": \"2021-02-21\", \"sore throat\": 36}, {\"Week\": \"2021-02-28\", \"sore throat\": 33}, {\"Week\": \"2021-03-07\", \"sore throat\": 29}, {\"Week\": \"2021-03-14\", \"sore throat\": 28}, {\"Week\": \"2021-03-21\", \"sore throat\": 31}, {\"Week\": \"2021-03-28\", \"sore throat\": 25}, {\"Week\": \"2021-04-04\", \"sore throat\": 20}, {\"Week\": \"2021-04-11\", \"sore throat\": 20}, {\"Week\": \"2021-04-18\", \"sore throat\": 22}, {\"Week\": \"2021-04-25\", \"sore throat\": 29}, {\"Week\": \"2021-05-02\", \"sore throat\": 27}, {\"Week\": \"2021-05-09\", \"sore throat\": 26}, {\"Week\": \"2021-05-16\", \"sore throat\": 30}, {\"Week\": \"2021-05-23\", \"sore throat\": 27}, {\"Week\": \"2021-05-30\", \"sore throat\": 28}, {\"Week\": \"2021-06-06\", \"sore throat\": 19}, {\"Week\": \"2021-06-13\", \"sore throat\": 24}, {\"Week\": \"2021-06-20\", \"sore throat\": 26}, {\"Week\": \"2021-06-27\", \"sore throat\": 27}, {\"Week\": \"2021-07-04\", \"sore throat\": 25}, {\"Week\": \"2021-07-11\", \"sore throat\": 27}, {\"Week\": \"2021-07-18\", \"sore throat\": 44}, {\"Week\": \"2021-07-25\", \"sore throat\": 44}, {\"Week\": \"2021-08-01\", \"sore throat\": 39}, {\"Week\": \"2021-08-08\", \"sore throat\": 39}, {\"Week\": \"2021-08-15\", \"sore throat\": 48}, {\"Week\": \"2021-08-22\", \"sore throat\": 37}, {\"Week\": \"2021-08-29\", \"sore throat\": 37}, {\"Week\": \"2021-09-05\", \"sore throat\": 37}], \"data-480d8492cb717fa0ae3fc3cc4341caa8\": [{\"level_0\": 0, \"start\": \"2020-02-17T00:00:00\", \"stop\": \"2020-03-28T00:00:00\", \"index\": \"darkgreen\"}]}}, {\"mode\": \"vega-lite\"});\n",
       "</script>"
      ],
      "text/plain": [
       "alt.LayerChart(...)"
      ]
     },
     "execution_count": 311,
     "metadata": {},
     "output_type": "execute_result"
    }
   ],
   "source": [
    "final_chart = line + areas + text\n",
    "final_chart = final_chart.properties(title=title,width=width,height=height)\n",
    "\n",
    "final_chart"
   ]
  },
  {
   "cell_type": "markdown",
   "metadata": {},
   "source": [
    "## Analysis of Paracetamol Sales in Italy"
   ]
  },
  {
   "cell_type": "code",
   "execution_count": 325,
   "metadata": {},
   "outputs": [],
   "source": [
    "width = 300\n",
    "height = 300"
   ]
  },
  {
   "cell_type": "code",
   "execution_count": 346,
   "metadata": {},
   "outputs": [
    {
     "data": {
      "text/html": [
       "<div>\n",
       "<style scoped>\n",
       "    .dataframe tbody tr th:only-of-type {\n",
       "        vertical-align: middle;\n",
       "    }\n",
       "\n",
       "    .dataframe tbody tr th {\n",
       "        vertical-align: top;\n",
       "    }\n",
       "\n",
       "    .dataframe thead th {\n",
       "        text-align: right;\n",
       "    }\n",
       "</style>\n",
       "<table border=\"1\" class=\"dataframe\">\n",
       "  <thead>\n",
       "    <tr style=\"text-align: right;\">\n",
       "      <th></th>\n",
       "      <th>index</th>\n",
       "      <th>Date</th>\n",
       "      <th>20 cps</th>\n",
       "      <th>30 cps</th>\n",
       "      <th>tot</th>\n",
       "    </tr>\n",
       "  </thead>\n",
       "  <tbody>\n",
       "    <tr>\n",
       "      <th>0</th>\n",
       "      <td>6</td>\n",
       "      <td>2019-06-01</td>\n",
       "      <td>2212298</td>\n",
       "      <td>2112443</td>\n",
       "      <td>4324741</td>\n",
       "    </tr>\n",
       "    <tr>\n",
       "      <th>1</th>\n",
       "      <td>7</td>\n",
       "      <td>2019-12-01</td>\n",
       "      <td>2337481</td>\n",
       "      <td>2399045</td>\n",
       "      <td>4736526</td>\n",
       "    </tr>\n",
       "    <tr>\n",
       "      <th>2</th>\n",
       "      <td>8</td>\n",
       "      <td>2020-06-01</td>\n",
       "      <td>2889999</td>\n",
       "      <td>2470717</td>\n",
       "      <td>5360716</td>\n",
       "    </tr>\n",
       "    <tr>\n",
       "      <th>3</th>\n",
       "      <td>9</td>\n",
       "      <td>2020-12-01</td>\n",
       "      <td>2385066</td>\n",
       "      <td>2371008</td>\n",
       "      <td>4756074</td>\n",
       "    </tr>\n",
       "  </tbody>\n",
       "</table>\n",
       "</div>"
      ],
      "text/plain": [
       "   index        Date   20 cps   30 cps      tot\n",
       "0      6  2019-06-01  2212298  2112443  4324741\n",
       "1      7  2019-12-01  2337481  2399045  4736526\n",
       "2      8  2020-06-01  2889999  2470717  5360716\n",
       "3      9  2020-12-01  2385066  2371008  4756074"
      ]
     },
     "execution_count": 346,
     "metadata": {},
     "output_type": "execute_result"
    }
   ],
   "source": [
    "import numpy as np\n",
    "df = pd.read_csv('source/paracetamol.csv')\n",
    "df.drop(np.arange(0,6),axis=0,inplace=True)\n",
    "df.reset_index(inplace=True)\n",
    "df.head()"
   ]
  },
  {
   "cell_type": "code",
   "execution_count": 356,
   "metadata": {},
   "outputs": [],
   "source": [
    "title='Paracetamol Sales in Italy'"
   ]
  },
  {
   "cell_type": "code",
   "execution_count": 358,
   "metadata": {},
   "outputs": [
    {
     "data": {
      "text/html": [
       "\n",
       "<div id=\"altair-viz-e5e8ebac0c9541379369d9c76b687632\"></div>\n",
       "<script type=\"text/javascript\">\n",
       "  (function(spec, embedOpt){\n",
       "    let outputDiv = document.currentScript.previousElementSibling;\n",
       "    if (outputDiv.id !== \"altair-viz-e5e8ebac0c9541379369d9c76b687632\") {\n",
       "      outputDiv = document.getElementById(\"altair-viz-e5e8ebac0c9541379369d9c76b687632\");\n",
       "    }\n",
       "    const paths = {\n",
       "      \"vega\": \"https://cdn.jsdelivr.net/npm//vega@5?noext\",\n",
       "      \"vega-lib\": \"https://cdn.jsdelivr.net/npm//vega-lib?noext\",\n",
       "      \"vega-lite\": \"https://cdn.jsdelivr.net/npm//vega-lite@4.8.1?noext\",\n",
       "      \"vega-embed\": \"https://cdn.jsdelivr.net/npm//vega-embed@6?noext\",\n",
       "    };\n",
       "\n",
       "    function loadScript(lib) {\n",
       "      return new Promise(function(resolve, reject) {\n",
       "        var s = document.createElement('script');\n",
       "        s.src = paths[lib];\n",
       "        s.async = true;\n",
       "        s.onload = () => resolve(paths[lib]);\n",
       "        s.onerror = () => reject(`Error loading script: ${paths[lib]}`);\n",
       "        document.getElementsByTagName(\"head\")[0].appendChild(s);\n",
       "      });\n",
       "    }\n",
       "\n",
       "    function showError(err) {\n",
       "      outputDiv.innerHTML = `<div class=\"error\" style=\"color:red;\">${err}</div>`;\n",
       "      throw err;\n",
       "    }\n",
       "\n",
       "    function displayChart(vegaEmbed) {\n",
       "      vegaEmbed(outputDiv, spec, embedOpt)\n",
       "        .catch(err => showError(`Javascript Error: ${err.message}<br>This usually means there's a typo in your chart specification. See the javascript console for the full traceback.`));\n",
       "    }\n",
       "\n",
       "    if(typeof define === \"function\" && define.amd) {\n",
       "      requirejs.config({paths});\n",
       "      require([\"vega-embed\"], displayChart, err => showError(`Error loading script: ${err.message}`));\n",
       "    } else if (typeof vegaEmbed === \"function\") {\n",
       "      displayChart(vegaEmbed);\n",
       "    } else {\n",
       "      loadScript(\"vega\")\n",
       "        .then(() => loadScript(\"vega-lite\"))\n",
       "        .then(() => loadScript(\"vega-embed\"))\n",
       "        .catch(showError)\n",
       "        .then(() => displayChart(vegaEmbed));\n",
       "    }\n",
       "  })({\"config\": {\"view\": {\"continuousWidth\": 400, \"continuousHeight\": 300}}, \"data\": {\"name\": \"data-53c48ecedbeb8f979f1bd63af73c47b2\"}, \"mark\": {\"type\": \"text\", \"color\": \"green\", \"dx\": -5, \"font\": \"utopia-std, serif\", \"fontSize\": 30, \"text\": \"+13% in 2020\", \"x\": 150.0, \"y\": 20}, \"encoding\": {}, \"$schema\": \"https://vega.github.io/schema/vega-lite/v4.8.1.json\", \"datasets\": {\"data-53c48ecedbeb8f979f1bd63af73c47b2\": [{\"index\": 6, \"Date\": \"2019-06-01\", \"20 cps\": 2212298, \"30 cps\": 2112443, \"tot\": 4324741}, {\"index\": 7, \"Date\": \"2019-12-01\", \"20 cps\": 2337481, \"30 cps\": 2399045, \"tot\": 4736526}, {\"index\": 8, \"Date\": \"2020-06-01\", \"20 cps\": 2889999, \"30 cps\": 2470717, \"tot\": 5360716}, {\"index\": 9, \"Date\": \"2020-12-01\", \"20 cps\": 2385066, \"30 cps\": 2371008, \"tot\": 4756074}]}}, {\"mode\": \"vega-lite\"});\n",
       "</script>"
      ],
      "text/plain": [
       "alt.Chart(...)"
      ]
     },
     "execution_count": 358,
     "metadata": {},
     "output_type": "execute_result"
    }
   ],
   "source": [
    "text = alt.Chart(df\n",
    ").mark_text(x=width/2, y=20, dx=-5,fontSize=30, color='green',text='+13% in 2020',font=font\n",
    ").encode()\n",
    "\n",
    "text"
   ]
  },
  {
   "cell_type": "code",
   "execution_count": 361,
   "metadata": {},
   "outputs": [
    {
     "data": {
      "text/html": [
       "<div>\n",
       "<style scoped>\n",
       "    .dataframe tbody tr th:only-of-type {\n",
       "        vertical-align: middle;\n",
       "    }\n",
       "\n",
       "    .dataframe tbody tr th {\n",
       "        vertical-align: top;\n",
       "    }\n",
       "\n",
       "    .dataframe thead th {\n",
       "        text-align: right;\n",
       "    }\n",
       "</style>\n",
       "<table border=\"1\" class=\"dataframe\">\n",
       "  <thead>\n",
       "    <tr style=\"text-align: right;\">\n",
       "      <th></th>\n",
       "      <th>Year</th>\n",
       "      <th>Value</th>\n",
       "    </tr>\n",
       "  </thead>\n",
       "  <tbody>\n",
       "    <tr>\n",
       "      <th>0</th>\n",
       "      <td>2019-12-01</td>\n",
       "      <td>4736526</td>\n",
       "    </tr>\n",
       "    <tr>\n",
       "      <th>1</th>\n",
       "      <td>2019-12-01</td>\n",
       "      <td>6000000</td>\n",
       "    </tr>\n",
       "    <tr>\n",
       "      <th>2</th>\n",
       "      <td>2020-06-01</td>\n",
       "      <td>6000000</td>\n",
       "    </tr>\n",
       "    <tr>\n",
       "      <th>3</th>\n",
       "      <td>2020-06-01</td>\n",
       "      <td>5360716</td>\n",
       "    </tr>\n",
       "  </tbody>\n",
       "</table>\n",
       "</div>"
      ],
      "text/plain": [
       "         Year    Value\n",
       "0  2019-12-01  4736526\n",
       "1  2019-12-01  6000000\n",
       "2  2020-06-01  6000000\n",
       "3  2020-06-01  5360716"
      ]
     },
     "execution_count": 361,
     "metadata": {},
     "output_type": "execute_result"
    }
   ],
   "source": [
    "df_line = pd.DataFrame([\n",
    "    {'Year': '2019-12-01', 'Value' : df['tot'][1]}, \n",
    "    {'Year': '2019-12-01', 'Value' : 6000000},\n",
    "    {'Year': '2020-06-01', 'Value' : 6000000},\n",
    "    {'Year': '2020-06-01', 'Value' : df['tot'][2]}\n",
    "])\n",
    "df_line.head()"
   ]
  },
  {
   "cell_type": "code",
   "execution_count": 365,
   "metadata": {},
   "outputs": [
    {
     "data": {
      "text/html": [
       "\n",
       "<div id=\"altair-viz-9323fbe6671a4b1c943823d6ee6e43c9\"></div>\n",
       "<script type=\"text/javascript\">\n",
       "  (function(spec, embedOpt){\n",
       "    let outputDiv = document.currentScript.previousElementSibling;\n",
       "    if (outputDiv.id !== \"altair-viz-9323fbe6671a4b1c943823d6ee6e43c9\") {\n",
       "      outputDiv = document.getElementById(\"altair-viz-9323fbe6671a4b1c943823d6ee6e43c9\");\n",
       "    }\n",
       "    const paths = {\n",
       "      \"vega\": \"https://cdn.jsdelivr.net/npm//vega@5?noext\",\n",
       "      \"vega-lib\": \"https://cdn.jsdelivr.net/npm//vega-lib?noext\",\n",
       "      \"vega-lite\": \"https://cdn.jsdelivr.net/npm//vega-lite@4.8.1?noext\",\n",
       "      \"vega-embed\": \"https://cdn.jsdelivr.net/npm//vega-embed@6?noext\",\n",
       "    };\n",
       "\n",
       "    function loadScript(lib) {\n",
       "      return new Promise(function(resolve, reject) {\n",
       "        var s = document.createElement('script');\n",
       "        s.src = paths[lib];\n",
       "        s.async = true;\n",
       "        s.onload = () => resolve(paths[lib]);\n",
       "        s.onerror = () => reject(`Error loading script: ${paths[lib]}`);\n",
       "        document.getElementsByTagName(\"head\")[0].appendChild(s);\n",
       "      });\n",
       "    }\n",
       "\n",
       "    function showError(err) {\n",
       "      outputDiv.innerHTML = `<div class=\"error\" style=\"color:red;\">${err}</div>`;\n",
       "      throw err;\n",
       "    }\n",
       "\n",
       "    function displayChart(vegaEmbed) {\n",
       "      vegaEmbed(outputDiv, spec, embedOpt)\n",
       "        .catch(err => showError(`Javascript Error: ${err.message}<br>This usually means there's a typo in your chart specification. See the javascript console for the full traceback.`));\n",
       "    }\n",
       "\n",
       "    if(typeof define === \"function\" && define.amd) {\n",
       "      requirejs.config({paths});\n",
       "      require([\"vega-embed\"], displayChart, err => showError(`Error loading script: ${err.message}`));\n",
       "    } else if (typeof vegaEmbed === \"function\") {\n",
       "      displayChart(vegaEmbed);\n",
       "    } else {\n",
       "      loadScript(\"vega\")\n",
       "        .then(() => loadScript(\"vega-lite\"))\n",
       "        .then(() => loadScript(\"vega-embed\"))\n",
       "        .catch(showError)\n",
       "        .then(() => displayChart(vegaEmbed));\n",
       "    }\n",
       "  })({\"config\": {\"view\": {\"continuousWidth\": 400, \"continuousHeight\": 300}}, \"data\": {\"name\": \"data-4996ff854bd723ba896f8ba06bdee7fe\"}, \"mark\": {\"type\": \"line\", \"color\": \"#154734\"}, \"encoding\": {\"x\": {\"type\": \"nominal\", \"field\": \"Year\"}, \"y\": {\"type\": \"quantitative\", \"field\": \"Value\"}}, \"$schema\": \"https://vega.github.io/schema/vega-lite/v4.8.1.json\", \"datasets\": {\"data-4996ff854bd723ba896f8ba06bdee7fe\": [{\"Year\": \"2019-12-01\", \"Value\": 4736526}, {\"Year\": \"2019-12-01\", \"Value\": 6000000}, {\"Year\": \"2020-06-01\", \"Value\": 6000000}, {\"Year\": \"2020-06-01\", \"Value\": 5360716}]}}, {\"mode\": \"vega-lite\"});\n",
       "</script>"
      ],
      "text/plain": [
       "alt.Chart(...)"
      ]
     },
     "execution_count": 365,
     "metadata": {},
     "output_type": "execute_result"
    }
   ],
   "source": [
    "ann = alt.Chart(df_line).mark_line(color='#154734').encode(\n",
    "    alt.Y('Value'),\n",
    "    alt.X('Year:N'),\n",
    ")\n",
    "ann"
   ]
  },
  {
   "cell_type": "code",
   "execution_count": 366,
   "metadata": {},
   "outputs": [
    {
     "data": {
      "text/html": [
       "\n",
       "<div id=\"altair-viz-29fc40e59e4441779eb234dbb4ac4232\"></div>\n",
       "<script type=\"text/javascript\">\n",
       "  (function(spec, embedOpt){\n",
       "    let outputDiv = document.currentScript.previousElementSibling;\n",
       "    if (outputDiv.id !== \"altair-viz-29fc40e59e4441779eb234dbb4ac4232\") {\n",
       "      outputDiv = document.getElementById(\"altair-viz-29fc40e59e4441779eb234dbb4ac4232\");\n",
       "    }\n",
       "    const paths = {\n",
       "      \"vega\": \"https://cdn.jsdelivr.net/npm//vega@5?noext\",\n",
       "      \"vega-lib\": \"https://cdn.jsdelivr.net/npm//vega-lib?noext\",\n",
       "      \"vega-lite\": \"https://cdn.jsdelivr.net/npm//vega-lite@4.8.1?noext\",\n",
       "      \"vega-embed\": \"https://cdn.jsdelivr.net/npm//vega-embed@6?noext\",\n",
       "    };\n",
       "\n",
       "    function loadScript(lib) {\n",
       "      return new Promise(function(resolve, reject) {\n",
       "        var s = document.createElement('script');\n",
       "        s.src = paths[lib];\n",
       "        s.async = true;\n",
       "        s.onload = () => resolve(paths[lib]);\n",
       "        s.onerror = () => reject(`Error loading script: ${paths[lib]}`);\n",
       "        document.getElementsByTagName(\"head\")[0].appendChild(s);\n",
       "      });\n",
       "    }\n",
       "\n",
       "    function showError(err) {\n",
       "      outputDiv.innerHTML = `<div class=\"error\" style=\"color:red;\">${err}</div>`;\n",
       "      throw err;\n",
       "    }\n",
       "\n",
       "    function displayChart(vegaEmbed) {\n",
       "      vegaEmbed(outputDiv, spec, embedOpt)\n",
       "        .catch(err => showError(`Javascript Error: ${err.message}<br>This usually means there's a typo in your chart specification. See the javascript console for the full traceback.`));\n",
       "    }\n",
       "\n",
       "    if(typeof define === \"function\" && define.amd) {\n",
       "      requirejs.config({paths});\n",
       "      require([\"vega-embed\"], displayChart, err => showError(`Error loading script: ${err.message}`));\n",
       "    } else if (typeof vegaEmbed === \"function\") {\n",
       "      displayChart(vegaEmbed);\n",
       "    } else {\n",
       "      loadScript(\"vega\")\n",
       "        .then(() => loadScript(\"vega-lite\"))\n",
       "        .then(() => loadScript(\"vega-embed\"))\n",
       "        .catch(showError)\n",
       "        .then(() => displayChart(vegaEmbed));\n",
       "    }\n",
       "  })({\"config\": {\"view\": {\"continuousWidth\": 400, \"continuousHeight\": 300}}, \"layer\": [{\"mark\": \"bar\", \"encoding\": {\"color\": {\"condition\": {\"value\": \"#154734\", \"test\": \"(datum.Date === '2020-06-01')\"}, \"value\": \"lightgrey\"}, \"tooltip\": [{\"type\": \"ordinal\", \"field\": \"Date\", \"title\": \"Date\"}, {\"type\": \"quantitative\", \"field\": \"tot\", \"format\": \",\", \"title\": \"paracetamol\"}], \"x\": {\"type\": \"ordinal\", \"axis\": {\"labelAngle\": -45}, \"field\": \"Date\", \"title\": null}, \"y\": {\"type\": \"quantitative\", \"field\": \"tot\", \"scale\": {\"domain\": [0, 7000000]}, \"title\": null}}, \"height\": 300, \"title\": \"Paracetamol Sales in Italy\", \"width\": 300}, {\"mark\": {\"type\": \"text\", \"color\": \"green\", \"dx\": -5, \"font\": \"utopia-std, serif\", \"fontSize\": 30, \"text\": \"+13% in 2020\", \"x\": 150.0, \"y\": 20}, \"encoding\": {}}, {\"data\": {\"name\": \"data-4996ff854bd723ba896f8ba06bdee7fe\"}, \"mark\": {\"type\": \"line\", \"color\": \"#154734\"}, \"encoding\": {\"x\": {\"type\": \"nominal\", \"field\": \"Year\"}, \"y\": {\"type\": \"quantitative\", \"field\": \"Value\"}}}], \"data\": {\"name\": \"data-53c48ecedbeb8f979f1bd63af73c47b2\"}, \"$schema\": \"https://vega.github.io/schema/vega-lite/v4.8.1.json\", \"datasets\": {\"data-53c48ecedbeb8f979f1bd63af73c47b2\": [{\"index\": 6, \"Date\": \"2019-06-01\", \"20 cps\": 2212298, \"30 cps\": 2112443, \"tot\": 4324741}, {\"index\": 7, \"Date\": \"2019-12-01\", \"20 cps\": 2337481, \"30 cps\": 2399045, \"tot\": 4736526}, {\"index\": 8, \"Date\": \"2020-06-01\", \"20 cps\": 2889999, \"30 cps\": 2470717, \"tot\": 5360716}, {\"index\": 9, \"Date\": \"2020-12-01\", \"20 cps\": 2385066, \"30 cps\": 2371008, \"tot\": 4756074}], \"data-4996ff854bd723ba896f8ba06bdee7fe\": [{\"Year\": \"2019-12-01\", \"Value\": 4736526}, {\"Year\": \"2019-12-01\", \"Value\": 6000000}, {\"Year\": \"2020-06-01\", \"Value\": 6000000}, {\"Year\": \"2020-06-01\", \"Value\": 5360716}]}}, {\"mode\": \"vega-lite\"});\n",
       "</script>"
      ],
      "text/plain": [
       "alt.LayerChart(...)"
      ]
     },
     "execution_count": 366,
     "metadata": {},
     "output_type": "execute_result"
    }
   ],
   "source": [
    "line = alt.Chart(df).mark_bar().encode(\n",
    "    alt.Y('tot:Q',title=None,scale=scale_config),\n",
    "    alt.X('Date:O', axis=alt.Axis(labelAngle=-45), title=None),\n",
    "    tooltip=[alt.Tooltip('Date:O', title='Date'), alt.Tooltip('tot:Q', format=',', title='paracetamol')],\n",
    "    color=alt.condition(\n",
    "        alt.datum.Date == '2020-06-01',  # If the Year is 2020,\n",
    "        alt.value('#154734'),     # highlight a bar with green.\n",
    "        alt.value('lightgrey')   # And grey for the rest of the bars\n",
    "     ),\n",
    ").properties(title=title,width=width,height=height)\n",
    "line + text + ann"
   ]
  },
  {
   "cell_type": "code",
   "execution_count": 353,
   "metadata": {},
   "outputs": [
    {
     "data": {
      "text/plain": [
       "13.178223871250786"
      ]
     },
     "execution_count": 353,
     "metadata": {},
     "output_type": "execute_result"
    }
   ],
   "source": [
    "(df['tot'][2] - df['tot'][1])/df['tot'][1]*100"
   ]
  },
  {
   "cell_type": "code",
   "execution_count": null,
   "metadata": {},
   "outputs": [],
   "source": []
  }
 ],
 "metadata": {
  "kernelspec": {
   "display_name": "Python 3",
   "language": "python",
   "name": "python3"
  },
  "language_info": {
   "codemirror_mode": {
    "name": "ipython",
    "version": 3
   },
   "file_extension": ".py",
   "mimetype": "text/x-python",
   "name": "python",
   "nbconvert_exporter": "python",
   "pygments_lexer": "ipython3",
   "version": "3.8.1"
  }
 },
 "nbformat": 4,
 "nbformat_minor": 4
}
