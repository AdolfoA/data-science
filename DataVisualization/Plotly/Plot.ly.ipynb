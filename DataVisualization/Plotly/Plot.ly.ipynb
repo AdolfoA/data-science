{
 "cells": [
  {
   "cell_type": "code",
   "execution_count": 6,
   "metadata": {},
   "outputs": [
    {
     "data": {
      "text/plain": [
       "'positivi.html'"
      ]
     },
     "execution_count": 6,
     "metadata": {},
     "output_type": "execute_result"
    }
   ],
   "source": [
    "import plotly\n",
    "import plotly.graph_objs as go\n",
    "import pandas as pd\n",
    "\n",
    "df = pd.read_csv('https://raw.githubusercontent.com/pcm-dpc/COVID-19/master/dati-andamento-nazionale/dpc-covid19-ita-andamento-nazionale.csv')\n",
    "\n",
    "# Create a trace\n",
    "data = [go.Scatter(\n",
    "    x = df['data'],\n",
    "    y = df['totale_positivi'],\n",
    ")]\n",
    "\n",
    "layout = go.Layout(\n",
    "        xaxis=dict(\n",
    "            title='Data',    \n",
    "        ),\n",
    "        yaxis=dict(\n",
    "            title='Totale positivi',  \n",
    "        )\n",
    "    )\n",
    "fig = go.Figure(data=data, layout=layout)\n",
    "plotly.offline.plot(fig,filename='positivi.html',config={'displayModeBar': False})"
   ]
  },
  {
   "cell_type": "code",
   "execution_count": null,
   "metadata": {},
   "outputs": [],
   "source": []
  }
 ],
 "metadata": {
  "kernelspec": {
   "display_name": "Python 3",
   "language": "python",
   "name": "python3"
  },
  "language_info": {
   "codemirror_mode": {
    "name": "ipython",
    "version": 3
   },
   "file_extension": ".py",
   "mimetype": "text/x-python",
   "name": "python",
   "nbconvert_exporter": "python",
   "pygments_lexer": "ipython3",
   "version": "3.8.1"
  }
 },
 "nbformat": 4,
 "nbformat_minor": 4
}
