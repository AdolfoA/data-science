{
 "cells": [
  {
   "cell_type": "markdown",
   "metadata": {},
   "source": [
    "# Read from Google Spreadsheet"
   ]
  },
  {
   "cell_type": "code",
   "execution_count": 4,
   "metadata": {},
   "outputs": [],
   "source": [
    "from __future__ import print_function\n",
    "import os.path\n",
    "from googleapiclient.discovery import build\n",
    "from google_auth_oauthlib.flow import InstalledAppFlow\n",
    "from google.auth.transport.requests import Request\n",
    "from google.oauth2.credentials import Credentials\n",
    "\n",
    "# If modifying these scopes, delete the file token.json.\n",
    "SCOPES = ['https://www.googleapis.com/auth/spreadsheets.readonly']\n",
    "\n",
    "# The ID and range of a sample spreadsheet.\n",
    "SPREADSHEET_ID = '1Reb_q0xspIy_QpOid6z9AzAuy4WWRydYda_lk4qaZpY'\n",
    "RANGE_NAME = 'Class Data!A1:E'\n",
    "\n",
    "creds = None\n",
    "# The file token.json stores the user's access and refresh tokens, and is\n",
    "# created automatically when the authorization flow completes for the first\n",
    "# time.\n",
    "if os.path.exists('token.json'):\n",
    "    creds = Credentials.from_authorized_user_file('token.json', SCOPES)\n",
    "# If there are no (valid) credentials available, let the user log in.\n",
    "if not creds or not creds.valid:\n",
    "    if creds and creds.expired and creds.refresh_token:\n",
    "        creds.refresh(Request())\n",
    "    else:\n",
    "        flow = InstalledAppFlow.from_client_secrets_file(\n",
    "            'credentials.json', SCOPES)\n",
    "        creds = flow.run_local_server(port=0)\n",
    "    # Save the credentials for the next run\n",
    "    with open('token.json', 'w') as token:\n",
    "        token.write(creds.to_json())\n",
    "\n",
    "service = build('sheets', 'v4', credentials=creds)\n",
    "# Call the Sheets API\n",
    "sheet = service.spreadsheets()"
   ]
  },
  {
   "cell_type": "markdown",
   "metadata": {},
   "source": [
    "# Convert the spreadsheet into a dict of dataframes, one for each sheet"
   ]
  },
  {
   "cell_type": "code",
   "execution_count": 6,
   "metadata": {},
   "outputs": [],
   "source": [
    "import pandas as pd\n",
    "sheet_metadata = service.spreadsheets().get(spreadsheetId=SPREADSHEET_ID).execute()\n",
    "df_dict = {}\n",
    "\n",
    "properties = sheet_metadata.get('sheets')\n",
    "for  item in properties:\n",
    "    table = item.get('properties').get('title')\n",
    "    df_dict[table] = pd.DataFrame()\n",
    "    \n",
    "    result = sheet.values().get(spreadsheetId=SPREADSHEET_ID,\n",
    "                                range=table + '!A1:F').execute()\n",
    "    header = result.get('values', [])[0]\n",
    "    \n",
    "    values = result.get('values', [])[1:] \n",
    "    if not values:\n",
    "        print('No data found.')\n",
    "    else:\n",
    "        all_data = []\n",
    "        for col_id, col_name in enumerate(header):\n",
    "            column_data = []\n",
    "            for row in values:\n",
    "                if col_id < len(row):\n",
    "                    column_data.append(row[col_id])\n",
    "                else:\n",
    "                    column_data.append('')\n",
    "                \n",
    "\n",
    "            ds = pd.Series(data=column_data, name=col_name)\n",
    "            all_data.append(ds)\n",
    "        df_dict[table] = pd.concat(all_data, axis=1)"
   ]
  },
  {
   "cell_type": "markdown",
   "metadata": {},
   "source": [
    "# Build a Mapping Table"
   ]
  },
  {
   "cell_type": "code",
   "execution_count": 7,
   "metadata": {},
   "outputs": [
    {
     "data": {
      "text/plain": [
       "{'PERSON': {'id': ['Integer', {'default': 'None', 'primary_key': 'True'}],\n",
       "  'Name': ['Char', {'default': 'None', 'max_length': '32'}],\n",
       "  'Surname': ['Char', {'default': 'None', 'max_length': '32'}],\n",
       "  'BirthDate': ['Date', {'default': 'None'}],\n",
       "  'Sex': ['Char', {'default': 'None', 'max_length': '1'}]},\n",
       " 'ORGANIZATION': {'id': ['Integer',\n",
       "   {'default': 'None', 'primary_key': 'True'}],\n",
       "  'Name': ['Char', {'default': 'None', 'max_length': '64'}],\n",
       "  'Address': ['Char', {'default': 'None', 'max_length': '128'}],\n",
       "  'WebSite': ['Char', {'default': 'None', 'max_length': '128'}],\n",
       "  'Locality': ['Char', {'default': 'None', 'max_length': '64'}]},\n",
       " 'STAFF': {'person_id': ['Integer', {'default': 'None'}],\n",
       "  'organization_id': ['Integer', {'default': 'None'}]}}"
      ]
     },
     "execution_count": 7,
     "metadata": {},
     "output_type": "execute_result"
    }
   ],
   "source": [
    "tables = {}\n",
    "for table,df in df_dict.items():\n",
    "    tables[table] = {}\n",
    "    for i in range(0, df.shape[0]):\n",
    "        attr = {}\n",
    "        attr['default'] = 'None'\n",
    "        if df['MAX LENGTH'][i] != '':\n",
    "            attr['max_length'] = df['MAX LENGTH'][i]\n",
    "        if df['KEY'][i] == 'primary key':\n",
    "            attr['primary_key'] = 'True'\n",
    "        tables[table][df['ATTRIBUTES'][i]] = [df['DATA TYPE'][i], attr]\n",
    "tables"
   ]
  },
  {
   "cell_type": "markdown",
   "metadata": {},
   "source": [
    "# Create the content of the model.py script"
   ]
  },
  {
   "cell_type": "code",
   "execution_count": 8,
   "metadata": {},
   "outputs": [],
   "source": [
    "def get_type(attr_type):\n",
    "    if isinstance(attr_type, list):\n",
    "        attr = attr_type[0] + 'Field('\n",
    "        for k,v in attr_type[1].items():\n",
    "            attr = attr + k + '=' + v + ','\n",
    "        attr = attr[:-1]\n",
    "        return attr + (')\\n')\n",
    "    else:\n",
    "        return attr_type + 'Field()\\n'"
   ]
  },
  {
   "cell_type": "code",
   "execution_count": 9,
   "metadata": {},
   "outputs": [],
   "source": [
    "script = 'from django.db import models\\n'\n",
    "\n",
    "for model,attributes in tables.items():\n",
    "    script = script + \"class \" + model + \"(models.Model):\\n\"\n",
    "    for attr_name,attr_type in attributes.items():\n",
    "        script = script + '\\t' + attr_name + ' = models.' + get_type(attr_type)"
   ]
  },
  {
   "cell_type": "code",
   "execution_count": 10,
   "metadata": {},
   "outputs": [],
   "source": [
    "root = 'mywebsite/myapp/'\n",
    "file_name = root + 'models.py'"
   ]
  },
  {
   "cell_type": "code",
   "execution_count": 11,
   "metadata": {},
   "outputs": [
    {
     "data": {
      "text/plain": [
       "'from django.db import models\\nclass PERSON(models.Model):\\n\\tid = models.IntegerField(default=None,primary_key=True)\\n\\tName = models.CharField(default=None,max_length=32)\\n\\tSurname = models.CharField(default=None,max_length=32)\\n\\tBirthDate = models.DateField(default=None)\\n\\tSex = models.CharField(default=None,max_length=1)\\nclass ORGANIZATION(models.Model):\\n\\tid = models.IntegerField(default=None,primary_key=True)\\n\\tName = models.CharField(default=None,max_length=64)\\n\\tAddress = models.CharField(default=None,max_length=128)\\n\\tWebSite = models.CharField(default=None,max_length=128)\\n\\tLocality = models.CharField(default=None,max_length=64)\\nclass STAFF(models.Model):\\n\\tperson_id = models.IntegerField(default=None)\\n\\torganization_id = models.IntegerField(default=None)\\n'"
      ]
     },
     "execution_count": 11,
     "metadata": {},
     "output_type": "execute_result"
    }
   ],
   "source": [
    "script"
   ]
  },
  {
   "cell_type": "code",
   "execution_count": 12,
   "metadata": {},
   "outputs": [],
   "source": [
    "with open(file_name, \"w\") as py_file:\n",
    "    py_file.write(script)"
   ]
  },
  {
   "cell_type": "markdown",
   "metadata": {},
   "source": [
    "# Create the file myapp/admin.py"
   ]
  },
  {
   "cell_type": "code",
   "execution_count": 16,
   "metadata": {},
   "outputs": [
    {
     "data": {
      "text/plain": [
       "'from django.contrib import admin\\n\\n\\nfrom .models import *\\nadmin.site.register(PERSON)\\nadmin.site.register(ORGANIZATION)\\nadmin.site.register(STAFF)\\n'"
      ]
     },
     "execution_count": 16,
     "metadata": {},
     "output_type": "execute_result"
    }
   ],
   "source": [
    "script = \"\"\"from django.contrib import admin\\n\n",
    "\n",
    "from .models import *\n",
    "\"\"\"\n",
    "\n",
    "for model in tables.keys():\n",
    "    script = script + \"admin.site.register(\" + model + \")\\n\"\n",
    "script"
   ]
  },
  {
   "cell_type": "code",
   "execution_count": 17,
   "metadata": {},
   "outputs": [],
   "source": [
    "file_name = root + 'admin.py'"
   ]
  },
  {
   "cell_type": "code",
   "execution_count": 18,
   "metadata": {},
   "outputs": [],
   "source": [
    "with open(file_name, \"w\",encoding='utf-8') as py_file:\n",
    "    py_file.write(script)"
   ]
  },
  {
   "cell_type": "code",
   "execution_count": null,
   "metadata": {},
   "outputs": [],
   "source": []
  },
  {
   "cell_type": "code",
   "execution_count": null,
   "metadata": {},
   "outputs": [],
   "source": []
  },
  {
   "cell_type": "code",
   "execution_count": null,
   "metadata": {},
   "outputs": [],
   "source": []
  }
 ],
 "metadata": {
  "kernelspec": {
   "display_name": "Python 3 (ipykernel)",
   "language": "python",
   "name": "python3"
  },
  "language_info": {
   "codemirror_mode": {
    "name": "ipython",
    "version": 3
   },
   "file_extension": ".py",
   "mimetype": "text/x-python",
   "name": "python",
   "nbconvert_exporter": "python",
   "pygments_lexer": "ipython3",
   "version": "3.8.10"
  }
 },
 "nbformat": 4,
 "nbformat_minor": 4
}
