{
 "cells": [
  {
   "cell_type": "markdown",
   "metadata": {},
   "source": [
    "# How to Customize a Simple Bar Chart in Altair\n",
    "\n",
    "In this tutorial, I describe how to build and customize a simple bar chart using the `altair` Python library.\n",
    "The tutorial is organised in three steps:\n",
    "* build the basic graph\n",
    "* customise the graph\n",
    "* add annotations to the graph\n",
    "\n",
    "As sample graph, I load the hybrid car registrations in Italy from 2018 to 2020, manually built.\n",
    "\n",
    "## Load data\n",
    "Firstly, I import the libraries, which will be used during the tutorial: `altair` and `pandas`."
   ]
  },
  {
   "cell_type": "code",
   "execution_count": 699,
   "metadata": {},
   "outputs": [],
   "source": [
    "import altair as alt\n",
    "import pandas as pd"
   ]
  },
  {
   "cell_type": "markdown",
   "metadata": {},
   "source": [
    "Now I build the dataset as a list of dicts, with pairs (Year, Value). Then I build a dataframe from this basic list."
   ]
  },
  {
   "cell_type": "code",
   "execution_count": 700,
   "metadata": {},
   "outputs": [
    {
     "data": {
      "text/html": [
       "<div>\n",
       "<style scoped>\n",
       "    .dataframe tbody tr th:only-of-type {\n",
       "        vertical-align: middle;\n",
       "    }\n",
       "\n",
       "    .dataframe tbody tr th {\n",
       "        vertical-align: top;\n",
       "    }\n",
       "\n",
       "    .dataframe thead th {\n",
       "        text-align: right;\n",
       "    }\n",
       "</style>\n",
       "<table border=\"1\" class=\"dataframe\">\n",
       "  <thead>\n",
       "    <tr style=\"text-align: right;\">\n",
       "      <th></th>\n",
       "      <th>Year</th>\n",
       "      <th>Value</th>\n",
       "    </tr>\n",
       "  </thead>\n",
       "  <tbody>\n",
       "    <tr>\n",
       "      <th>0</th>\n",
       "      <td>2018</td>\n",
       "      <td>4800</td>\n",
       "    </tr>\n",
       "    <tr>\n",
       "      <th>1</th>\n",
       "      <td>2019</td>\n",
       "      <td>12400</td>\n",
       "    </tr>\n",
       "    <tr>\n",
       "      <th>2</th>\n",
       "      <td>2020</td>\n",
       "      <td>32000</td>\n",
       "    </tr>\n",
       "  </tbody>\n",
       "</table>\n",
       "</div>"
      ],
      "text/plain": [
       "   Year  Value\n",
       "0  2018   4800\n",
       "1  2019  12400\n",
       "2  2020  32000"
      ]
     },
     "execution_count": 700,
     "metadata": {},
     "output_type": "execute_result"
    }
   ],
   "source": [
    "data = [ { 'Year' : 2018, 'Value' : 4800},\n",
    "         { 'Year' : 2019, 'Value' : 12400},\n",
    "         { 'Year' : 2020, 'Value' : 32000}]\n",
    "\n",
    "df = pd.DataFrame(data)\n",
    "df.head()"
   ]
  },
  {
   "cell_type": "markdown",
   "metadata": {},
   "source": [
    "## Build the basic graph\n",
    "Before building the bar chart, I define some basic parameters as variables:\n",
    "* `width`: the width in pixel of the chart\n",
    "* `height`: the height in pixel of the chart."
   ]
  },
  {
   "cell_type": "code",
   "execution_count": 701,
   "metadata": {},
   "outputs": [],
   "source": [
    "width = 300\n",
    "height = 300"
   ]
  },
  {
   "cell_type": "markdown",
   "metadata": {},
   "source": [
    "Now I can build the basic bar chart, by invoking the `mark_bar()` function of the `Chart()` class. The `Chart()` class receives as input the data frame `df` to be shown. In order to specify the mapping between the data and the visual aspect of the graph, the `altair` library provides the `encode()` function. With this function, I specify the mapping between the axes and the data. I also specify which information must be shown in the tooltip."
   ]
  },
  {
   "cell_type": "code",
   "execution_count": 702,
   "metadata": {},
   "outputs": [
    {
     "data": {
      "text/html": [
       "\n",
       "<div id=\"altair-viz-c44bdddc7c4945939d2f03524058b638\"></div>\n",
       "<script type=\"text/javascript\">\n",
       "  (function(spec, embedOpt){\n",
       "    let outputDiv = document.currentScript.previousElementSibling;\n",
       "    if (outputDiv.id !== \"altair-viz-c44bdddc7c4945939d2f03524058b638\") {\n",
       "      outputDiv = document.getElementById(\"altair-viz-c44bdddc7c4945939d2f03524058b638\");\n",
       "    }\n",
       "    const paths = {\n",
       "      \"vega\": \"https://cdn.jsdelivr.net/npm//vega@5?noext\",\n",
       "      \"vega-lib\": \"https://cdn.jsdelivr.net/npm//vega-lib?noext\",\n",
       "      \"vega-lite\": \"https://cdn.jsdelivr.net/npm//vega-lite@4.8.1?noext\",\n",
       "      \"vega-embed\": \"https://cdn.jsdelivr.net/npm//vega-embed@6?noext\",\n",
       "    };\n",
       "\n",
       "    function loadScript(lib) {\n",
       "      return new Promise(function(resolve, reject) {\n",
       "        var s = document.createElement('script');\n",
       "        s.src = paths[lib];\n",
       "        s.async = true;\n",
       "        s.onload = () => resolve(paths[lib]);\n",
       "        s.onerror = () => reject(`Error loading script: ${paths[lib]}`);\n",
       "        document.getElementsByTagName(\"head\")[0].appendChild(s);\n",
       "      });\n",
       "    }\n",
       "\n",
       "    function showError(err) {\n",
       "      outputDiv.innerHTML = `<div class=\"error\" style=\"color:red;\">${err}</div>`;\n",
       "      throw err;\n",
       "    }\n",
       "\n",
       "    function displayChart(vegaEmbed) {\n",
       "      vegaEmbed(outputDiv, spec, embedOpt)\n",
       "        .catch(err => showError(`Javascript Error: ${err.message}<br>This usually means there's a typo in your chart specification. See the javascript console for the full traceback.`));\n",
       "    }\n",
       "\n",
       "    if(typeof define === \"function\" && define.amd) {\n",
       "      requirejs.config({paths});\n",
       "      require([\"vega-embed\"], displayChart, err => showError(`Error loading script: ${err.message}`));\n",
       "    } else if (typeof vegaEmbed === \"function\") {\n",
       "      displayChart(vegaEmbed);\n",
       "    } else {\n",
       "      loadScript(\"vega\")\n",
       "        .then(() => loadScript(\"vega-lite\"))\n",
       "        .then(() => loadScript(\"vega-embed\"))\n",
       "        .catch(showError)\n",
       "        .then(() => displayChart(vegaEmbed));\n",
       "    }\n",
       "  })({\"config\": {\"axis\": {\"domainColor\": \"green\"}, \"view\": {\"width\": 300, \"height\": 300}, \"title\": {\"fontSize\": 20}}, \"encoding\": {\"y\": {\"axis\": {\"title\": \"Immatricolazioni Auto Ibride\"}, \"scale\": {\"domain\": [0, 40000]}, \"type\": \"quantitative\", \"field\": \"Value\"}, \"x\": {\"axis\": {\"title\": \"Anno\", \"labelAngle\": 0}, \"type\": \"nominal\", \"field\": \"Year\", \"title\": \"Anno\"}, \"tooltip\": [{\"type\": \"nominal\", \"field\": \"Year\", \"title\": \"Anno\"}, {\"type\": \"quantitative\", \"field\": \"Value\", \"format\": \",\", \"title\": \"Immatricolazioni\"}]}, \"data\": {\"name\": \"data-0caac22e0cde9bd71f1ead572e3ba5c1\"}, \"mark\": \"bar\", \"$schema\": \"https://vega.github.io/schema/vega-lite/v4.8.1.json\", \"datasets\": {\"data-0caac22e0cde9bd71f1ead572e3ba5c1\": [{\"Year\": 2018, \"Value\": 4800}, {\"Year\": 2019, \"Value\": 12400}, {\"Year\": 2020, \"Value\": 32000}]}}, {\"mode\": \"vega-lite\"});\n",
       "</script>"
      ],
      "text/plain": [
       "alt.Chart(...)"
      ]
     },
     "execution_count": 702,
     "metadata": {},
     "output_type": "execute_result"
    }
   ],
   "source": [
    "bar = alt.Chart(df).mark_bar().encode(\n",
    "    alt.Y('Value'),\n",
    "    alt.X('Year:N', title='Anno'),\n",
    "    tooltip=[alt.Tooltip('Year:N', title='Anno'), alt.Tooltip('Value', format=',', title='Immatricolazioni')]     \n",
    ")\n",
    "bar"
   ]
  },
  {
   "cell_type": "markdown",
   "metadata": {},
   "source": [
    "## Customise the graph\n",
    "The basic graph can be customised in order to communicate something to the reader immediately. For example, I could focus the readers' attention of the fact that from 2018 to 2020 there has been an incredibly improvement in hybrid cars registration.\n",
    "\n",
    "I can customise the axes and the graph title, through the following parameters:\n",
    "* `font`: the font family to be used.\n",
    "* `axis_config`: some `altair` properties regarding both the axes, including the font family, the font size and the label rotations. Regarding axes, the `altair` library provides two types of text: **label** and **title**. The label refers to every label associated to data, such as the name of a country. The title refers to the title of the axis, such as Country. For each type of text, the `altair` library permits to configure many properties, such as the font size and the font family.\n",
    "* `scale`: some `altair` properties regarding to the y axis scale to be used. I have set the max domain value to 40,000, i.e. a value greater than the maximum data value.\n",
    "* `title`: the title of the bar chart."
   ]
  },
  {
   "cell_type": "code",
   "execution_count": 703,
   "metadata": {},
   "outputs": [],
   "source": [
    "font = 'utopia-std, serif'\n",
    "axis_config = alt.Axis(labelAngle=0,labelFont=font,titleFont=font, labelFontSize=16, titleFontSize=18)\n",
    "scale_config=alt.Scale(domain=[0, 40000])\n",
    "title='Immatricolazioni Auto Ibride'"
   ]
  },
  {
   "cell_type": "markdown",
   "metadata": {},
   "source": [
    "Then, I can focus the readers' attention to the last year (2020), by highlighting the corresponding bar with a stronger colour than the other bars. As colour, I can use a type of green, to mark the fact that ecological cars are increasing. I set the `color` property through a `condition()`."
   ]
  },
  {
   "cell_type": "code",
   "execution_count": 704,
   "metadata": {},
   "outputs": [
    {
     "data": {
      "text/html": [
       "\n",
       "<div id=\"altair-viz-234bf1dc65244d729abd1e3853bcb1cc\"></div>\n",
       "<script type=\"text/javascript\">\n",
       "  (function(spec, embedOpt){\n",
       "    let outputDiv = document.currentScript.previousElementSibling;\n",
       "    if (outputDiv.id !== \"altair-viz-234bf1dc65244d729abd1e3853bcb1cc\") {\n",
       "      outputDiv = document.getElementById(\"altair-viz-234bf1dc65244d729abd1e3853bcb1cc\");\n",
       "    }\n",
       "    const paths = {\n",
       "      \"vega\": \"https://cdn.jsdelivr.net/npm//vega@5?noext\",\n",
       "      \"vega-lib\": \"https://cdn.jsdelivr.net/npm//vega-lib?noext\",\n",
       "      \"vega-lite\": \"https://cdn.jsdelivr.net/npm//vega-lite@4.8.1?noext\",\n",
       "      \"vega-embed\": \"https://cdn.jsdelivr.net/npm//vega-embed@6?noext\",\n",
       "    };\n",
       "\n",
       "    function loadScript(lib) {\n",
       "      return new Promise(function(resolve, reject) {\n",
       "        var s = document.createElement('script');\n",
       "        s.src = paths[lib];\n",
       "        s.async = true;\n",
       "        s.onload = () => resolve(paths[lib]);\n",
       "        s.onerror = () => reject(`Error loading script: ${paths[lib]}`);\n",
       "        document.getElementsByTagName(\"head\")[0].appendChild(s);\n",
       "      });\n",
       "    }\n",
       "\n",
       "    function showError(err) {\n",
       "      outputDiv.innerHTML = `<div class=\"error\" style=\"color:red;\">${err}</div>`;\n",
       "      throw err;\n",
       "    }\n",
       "\n",
       "    function displayChart(vegaEmbed) {\n",
       "      vegaEmbed(outputDiv, spec, embedOpt)\n",
       "        .catch(err => showError(`Javascript Error: ${err.message}<br>This usually means there's a typo in your chart specification. See the javascript console for the full traceback.`));\n",
       "    }\n",
       "\n",
       "    if(typeof define === \"function\" && define.amd) {\n",
       "      requirejs.config({paths});\n",
       "      require([\"vega-embed\"], displayChart, err => showError(`Error loading script: ${err.message}`));\n",
       "    } else if (typeof vegaEmbed === \"function\") {\n",
       "      displayChart(vegaEmbed);\n",
       "    } else {\n",
       "      loadScript(\"vega\")\n",
       "        .then(() => loadScript(\"vega-lite\"))\n",
       "        .then(() => loadScript(\"vega-embed\"))\n",
       "        .catch(showError)\n",
       "        .then(() => displayChart(vegaEmbed));\n",
       "    }\n",
       "  })({\"config\": {\"axis\": {\"domainColor\": \"green\"}, \"view\": {\"width\": 300, \"height\": 300}, \"title\": {\"fontSize\": 20}}, \"encoding\": {\"y\": {\"axis\": {\"title\": \"Immatricolazioni Auto Ibride\", \"labelAngle\": 0, \"labelFont\": \"utopia-std, serif\", \"labelFontSize\": 16, \"titleFont\": \"utopia-std, serif\", \"titleFontSize\": 18}, \"scale\": {\"domain\": [0, 40000]}, \"type\": \"quantitative\", \"field\": \"Value\", \"title\": \"Immatricolazioni Auto Ibride\"}, \"x\": {\"axis\": {\"title\": \"Anno\", \"labelAngle\": 0, \"labelFont\": \"utopia-std, serif\", \"labelFontSize\": 16, \"titleFont\": \"utopia-std, serif\", \"titleFontSize\": 18}, \"type\": \"nominal\", \"field\": \"Year\", \"title\": \"Anno\"}, \"color\": {\"condition\": {\"value\": \"#154734\", \"test\": \"(datum.Year === 2020)\"}, \"value\": \"lightgrey\"}, \"tooltip\": [{\"type\": \"nominal\", \"field\": \"Year\", \"title\": \"Anno\"}, {\"type\": \"quantitative\", \"field\": \"Value\", \"format\": \",\", \"title\": \"Immatricolazioni\"}]}, \"data\": {\"name\": \"data-0caac22e0cde9bd71f1ead572e3ba5c1\"}, \"mark\": {\"type\": \"bar\", \"tooltip\": true}, \"$schema\": \"https://vega.github.io/schema/vega-lite/v4.8.1.json\", \"datasets\": {\"data-0caac22e0cde9bd71f1ead572e3ba5c1\": [{\"Year\": 2018, \"Value\": 4800}, {\"Year\": 2019, \"Value\": 12400}, {\"Year\": 2020, \"Value\": 32000}]}}, {\"mode\": \"vega-lite\"});\n",
       "</script>"
      ],
      "text/plain": [
       "alt.Chart(...)"
      ]
     },
     "execution_count": 704,
     "metadata": {},
     "output_type": "execute_result"
    }
   ],
   "source": [
    "bar = alt.Chart(df).mark_bar(tooltip=True).encode(\n",
    "    alt.Y('Value', axis=axis_config,title=title,scale=scale_config),\n",
    "    alt.X('Year:N', axis=axis_config, title='Anno'),\n",
    "    color=alt.condition(\n",
    "        alt.datum.Year == 2020,  # If the Year is 2020,\n",
    "        alt.value('#154734'),     # highlight a bar with green.\n",
    "        alt.value('lightgrey')   # And grey for the rest of the bars\n",
    "     ),\n",
    "    tooltip=[alt.Tooltip('Year:N', title='Anno'), alt.Tooltip('Value', format=',', title='Immatricolazioni')]     \n",
    ")\n",
    "bar"
   ]
  },
  {
   "cell_type": "markdown",
   "metadata": {},
   "source": [
    "## Add annotations to the graph\n",
    "Now I can show explicitly the improvement from 2018 to 2020, by calculating the percentage increase and adding it to the graph as an annotation."
   ]
  },
  {
   "cell_type": "code",
   "execution_count": 705,
   "metadata": {},
   "outputs": [
    {
     "data": {
      "text/plain": [
       "117.64705882352942"
      ]
     },
     "execution_count": 705,
     "metadata": {},
     "output_type": "execute_result"
    }
   ],
   "source": [
    "df['Value'][2]/(df['Value'][2] - df['Value'][0])*100"
   ]
  },
  {
   "cell_type": "markdown",
   "metadata": {},
   "source": [
    "The percentage increase is around 117%, thus I can add a text in the graph with this information. I exploit the `mark_text()` function of the `Chart()` class. I also specify the font and other style parameters."
   ]
  },
  {
   "cell_type": "code",
   "execution_count": 706,
   "metadata": {},
   "outputs": [
    {
     "data": {
      "text/html": [
       "\n",
       "<div id=\"altair-viz-346308080d704482ac0413f15e359171\"></div>\n",
       "<script type=\"text/javascript\">\n",
       "  (function(spec, embedOpt){\n",
       "    let outputDiv = document.currentScript.previousElementSibling;\n",
       "    if (outputDiv.id !== \"altair-viz-346308080d704482ac0413f15e359171\") {\n",
       "      outputDiv = document.getElementById(\"altair-viz-346308080d704482ac0413f15e359171\");\n",
       "    }\n",
       "    const paths = {\n",
       "      \"vega\": \"https://cdn.jsdelivr.net/npm//vega@5?noext\",\n",
       "      \"vega-lib\": \"https://cdn.jsdelivr.net/npm//vega-lib?noext\",\n",
       "      \"vega-lite\": \"https://cdn.jsdelivr.net/npm//vega-lite@4.8.1?noext\",\n",
       "      \"vega-embed\": \"https://cdn.jsdelivr.net/npm//vega-embed@6?noext\",\n",
       "    };\n",
       "\n",
       "    function loadScript(lib) {\n",
       "      return new Promise(function(resolve, reject) {\n",
       "        var s = document.createElement('script');\n",
       "        s.src = paths[lib];\n",
       "        s.async = true;\n",
       "        s.onload = () => resolve(paths[lib]);\n",
       "        s.onerror = () => reject(`Error loading script: ${paths[lib]}`);\n",
       "        document.getElementsByTagName(\"head\")[0].appendChild(s);\n",
       "      });\n",
       "    }\n",
       "\n",
       "    function showError(err) {\n",
       "      outputDiv.innerHTML = `<div class=\"error\" style=\"color:red;\">${err}</div>`;\n",
       "      throw err;\n",
       "    }\n",
       "\n",
       "    function displayChart(vegaEmbed) {\n",
       "      vegaEmbed(outputDiv, spec, embedOpt)\n",
       "        .catch(err => showError(`Javascript Error: ${err.message}<br>This usually means there's a typo in your chart specification. See the javascript console for the full traceback.`));\n",
       "    }\n",
       "\n",
       "    if(typeof define === \"function\" && define.amd) {\n",
       "      requirejs.config({paths});\n",
       "      require([\"vega-embed\"], displayChart, err => showError(`Error loading script: ${err.message}`));\n",
       "    } else if (typeof vegaEmbed === \"function\") {\n",
       "      displayChart(vegaEmbed);\n",
       "    } else {\n",
       "      loadScript(\"vega\")\n",
       "        .then(() => loadScript(\"vega-lite\"))\n",
       "        .then(() => loadScript(\"vega-embed\"))\n",
       "        .catch(showError)\n",
       "        .then(() => displayChart(vegaEmbed));\n",
       "    }\n",
       "  })({\"config\": {\"axis\": {\"domainColor\": \"green\"}, \"view\": {\"width\": 300, \"height\": 300}, \"title\": {\"fontSize\": 20}}, \"encoding\": {\"y\": {\"axis\": {\"title\": \"Immatricolazioni Auto Ibride\"}, \"scale\": {\"domain\": [0, 40000]}}, \"x\": {\"axis\": {\"title\": \"Anno\", \"labelAngle\": 0}}}, \"data\": {\"name\": \"data-0caac22e0cde9bd71f1ead572e3ba5c1\"}, \"mark\": {\"type\": \"text\", \"color\": \"green\", \"dx\": -5, \"font\": \"utopia-std, serif\", \"fontSize\": 30, \"text\": \"+117% nel 2020\", \"x\": 150.0, \"y\": 20}, \"$schema\": \"https://vega.github.io/schema/vega-lite/v4.8.1.json\", \"datasets\": {\"data-0caac22e0cde9bd71f1ead572e3ba5c1\": [{\"Year\": 2018, \"Value\": 4800}, {\"Year\": 2019, \"Value\": 12400}, {\"Year\": 2020, \"Value\": 32000}]}}, {\"mode\": \"vega-lite\"});\n",
       "</script>"
      ],
      "text/plain": [
       "alt.Chart(...)"
      ]
     },
     "execution_count": 706,
     "metadata": {},
     "output_type": "execute_result"
    }
   ],
   "source": [
    "text = alt.Chart(df\n",
    ").mark_text(x=width/2, y=20, dx=-5,fontSize=30, color='green',text='+117% nel 2020',font=font\n",
    ").encode()\n",
    "\n",
    "text"
   ]
  },
  {
   "cell_type": "markdown",
   "metadata": {},
   "source": [
    "Now I build a broken line which connects the 2018 bar with the 2020 one. I build a dataframe, which contains the dots of the four lines."
   ]
  },
  {
   "cell_type": "code",
   "execution_count": 707,
   "metadata": {},
   "outputs": [
    {
     "data": {
      "text/html": [
       "<div>\n",
       "<style scoped>\n",
       "    .dataframe tbody tr th:only-of-type {\n",
       "        vertical-align: middle;\n",
       "    }\n",
       "\n",
       "    .dataframe tbody tr th {\n",
       "        vertical-align: top;\n",
       "    }\n",
       "\n",
       "    .dataframe thead th {\n",
       "        text-align: right;\n",
       "    }\n",
       "</style>\n",
       "<table border=\"1\" class=\"dataframe\">\n",
       "  <thead>\n",
       "    <tr style=\"text-align: right;\">\n",
       "      <th></th>\n",
       "      <th>Year</th>\n",
       "      <th>Value</th>\n",
       "    </tr>\n",
       "  </thead>\n",
       "  <tbody>\n",
       "    <tr>\n",
       "      <th>0</th>\n",
       "      <td>2018</td>\n",
       "      <td>4800</td>\n",
       "    </tr>\n",
       "    <tr>\n",
       "      <th>1</th>\n",
       "      <td>2018</td>\n",
       "      <td>35000</td>\n",
       "    </tr>\n",
       "    <tr>\n",
       "      <th>2</th>\n",
       "      <td>2020</td>\n",
       "      <td>35000</td>\n",
       "    </tr>\n",
       "    <tr>\n",
       "      <th>3</th>\n",
       "      <td>2020</td>\n",
       "      <td>32000</td>\n",
       "    </tr>\n",
       "  </tbody>\n",
       "</table>\n",
       "</div>"
      ],
      "text/plain": [
       "   Year  Value\n",
       "0  2018   4800\n",
       "1  2018  35000\n",
       "2  2020  35000\n",
       "3  2020  32000"
      ]
     },
     "execution_count": 707,
     "metadata": {},
     "output_type": "execute_result"
    }
   ],
   "source": [
    "df_line = pd.DataFrame([\n",
    "    {'Year': 2018, 'Value' : df['Value'].min()}, \n",
    "    {'Year': 2018, 'Value' : 35000},\n",
    "    {'Year': 2020, 'Value' : 35000},\n",
    "    {'Year': 2020, 'Value' : df['Value'].max()}\n",
    "])\n",
    "df_line.head()"
   ]
  },
  {
   "cell_type": "markdown",
   "metadata": {},
   "source": [
    "Then, I build the lines through the `mark_line()` function of the `Chart()` class. Note that, in this case, the `Chart()` class receives as input the `df_line` dataframe."
   ]
  },
  {
   "cell_type": "code",
   "execution_count": 708,
   "metadata": {},
   "outputs": [
    {
     "data": {
      "text/html": [
       "\n",
       "<div id=\"altair-viz-6163569ed24e441b8bcfb285dfe57729\"></div>\n",
       "<script type=\"text/javascript\">\n",
       "  (function(spec, embedOpt){\n",
       "    let outputDiv = document.currentScript.previousElementSibling;\n",
       "    if (outputDiv.id !== \"altair-viz-6163569ed24e441b8bcfb285dfe57729\") {\n",
       "      outputDiv = document.getElementById(\"altair-viz-6163569ed24e441b8bcfb285dfe57729\");\n",
       "    }\n",
       "    const paths = {\n",
       "      \"vega\": \"https://cdn.jsdelivr.net/npm//vega@5?noext\",\n",
       "      \"vega-lib\": \"https://cdn.jsdelivr.net/npm//vega-lib?noext\",\n",
       "      \"vega-lite\": \"https://cdn.jsdelivr.net/npm//vega-lite@4.8.1?noext\",\n",
       "      \"vega-embed\": \"https://cdn.jsdelivr.net/npm//vega-embed@6?noext\",\n",
       "    };\n",
       "\n",
       "    function loadScript(lib) {\n",
       "      return new Promise(function(resolve, reject) {\n",
       "        var s = document.createElement('script');\n",
       "        s.src = paths[lib];\n",
       "        s.async = true;\n",
       "        s.onload = () => resolve(paths[lib]);\n",
       "        s.onerror = () => reject(`Error loading script: ${paths[lib]}`);\n",
       "        document.getElementsByTagName(\"head\")[0].appendChild(s);\n",
       "      });\n",
       "    }\n",
       "\n",
       "    function showError(err) {\n",
       "      outputDiv.innerHTML = `<div class=\"error\" style=\"color:red;\">${err}</div>`;\n",
       "      throw err;\n",
       "    }\n",
       "\n",
       "    function displayChart(vegaEmbed) {\n",
       "      vegaEmbed(outputDiv, spec, embedOpt)\n",
       "        .catch(err => showError(`Javascript Error: ${err.message}<br>This usually means there's a typo in your chart specification. See the javascript console for the full traceback.`));\n",
       "    }\n",
       "\n",
       "    if(typeof define === \"function\" && define.amd) {\n",
       "      requirejs.config({paths});\n",
       "      require([\"vega-embed\"], displayChart, err => showError(`Error loading script: ${err.message}`));\n",
       "    } else if (typeof vegaEmbed === \"function\") {\n",
       "      displayChart(vegaEmbed);\n",
       "    } else {\n",
       "      loadScript(\"vega\")\n",
       "        .then(() => loadScript(\"vega-lite\"))\n",
       "        .then(() => loadScript(\"vega-embed\"))\n",
       "        .catch(showError)\n",
       "        .then(() => displayChart(vegaEmbed));\n",
       "    }\n",
       "  })({\"config\": {\"axis\": {\"domainColor\": \"green\"}, \"view\": {\"width\": 300, \"height\": 300}, \"title\": {\"fontSize\": 20}}, \"encoding\": {\"y\": {\"axis\": {\"title\": \"Immatricolazioni Auto Ibride\", \"labelAngle\": 0, \"labelFont\": \"utopia-std, serif\", \"labelFontSize\": 16, \"titleFont\": \"utopia-std, serif\", \"titleFontSize\": 18}, \"scale\": {\"domain\": [0, 40000]}, \"type\": \"quantitative\", \"field\": \"Value\", \"title\": \"Immatricolazioni Auto Ibride\"}, \"x\": {\"axis\": {\"title\": \"Anno\", \"labelAngle\": 0, \"labelFont\": \"utopia-std, serif\", \"labelFontSize\": 16, \"titleFont\": \"utopia-std, serif\", \"titleFontSize\": 18}, \"type\": \"nominal\", \"field\": \"Year\", \"title\": \"Anno\"}}, \"data\": {\"name\": \"data-ef28567f4f1c9c9b6879916bfe26aca9\"}, \"mark\": {\"type\": \"line\", \"color\": \"#154734\"}, \"$schema\": \"https://vega.github.io/schema/vega-lite/v4.8.1.json\", \"datasets\": {\"data-ef28567f4f1c9c9b6879916bfe26aca9\": [{\"Year\": 2018, \"Value\": 4800}, {\"Year\": 2018, \"Value\": 35000}, {\"Year\": 2020, \"Value\": 35000}, {\"Year\": 2020, \"Value\": 32000}]}}, {\"mode\": \"vega-lite\"});\n",
       "</script>"
      ],
      "text/plain": [
       "alt.Chart(...)"
      ]
     },
     "execution_count": 708,
     "metadata": {},
     "output_type": "execute_result"
    }
   ],
   "source": [
    "line = alt.Chart(df_line).mark_line(color='#154734').encode(\n",
    "    alt.Y('Value', axis=axis_config,title=title,scale=scale_config),\n",
    "    alt.X('Year:N',axis=axis_config, title='Anno', ),\n",
    ")\n",
    "line"
   ]
  },
  {
   "cell_type": "markdown",
   "metadata": {},
   "source": [
    "Finally, I can combine the three previous graphs, simply by summing them. I can also specify some properties of the final chart, such as the title, the width and the height."
   ]
  },
  {
   "cell_type": "code",
   "execution_count": 709,
   "metadata": {},
   "outputs": [
    {
     "data": {
      "text/html": [
       "\n",
       "<div id=\"altair-viz-1b488bc096d140f985afdd174deda329\"></div>\n",
       "<script type=\"text/javascript\">\n",
       "  (function(spec, embedOpt){\n",
       "    let outputDiv = document.currentScript.previousElementSibling;\n",
       "    if (outputDiv.id !== \"altair-viz-1b488bc096d140f985afdd174deda329\") {\n",
       "      outputDiv = document.getElementById(\"altair-viz-1b488bc096d140f985afdd174deda329\");\n",
       "    }\n",
       "    const paths = {\n",
       "      \"vega\": \"https://cdn.jsdelivr.net/npm//vega@5?noext\",\n",
       "      \"vega-lib\": \"https://cdn.jsdelivr.net/npm//vega-lib?noext\",\n",
       "      \"vega-lite\": \"https://cdn.jsdelivr.net/npm//vega-lite@4.8.1?noext\",\n",
       "      \"vega-embed\": \"https://cdn.jsdelivr.net/npm//vega-embed@6?noext\",\n",
       "    };\n",
       "\n",
       "    function loadScript(lib) {\n",
       "      return new Promise(function(resolve, reject) {\n",
       "        var s = document.createElement('script');\n",
       "        s.src = paths[lib];\n",
       "        s.async = true;\n",
       "        s.onload = () => resolve(paths[lib]);\n",
       "        s.onerror = () => reject(`Error loading script: ${paths[lib]}`);\n",
       "        document.getElementsByTagName(\"head\")[0].appendChild(s);\n",
       "      });\n",
       "    }\n",
       "\n",
       "    function showError(err) {\n",
       "      outputDiv.innerHTML = `<div class=\"error\" style=\"color:red;\">${err}</div>`;\n",
       "      throw err;\n",
       "    }\n",
       "\n",
       "    function displayChart(vegaEmbed) {\n",
       "      vegaEmbed(outputDiv, spec, embedOpt)\n",
       "        .catch(err => showError(`Javascript Error: ${err.message}<br>This usually means there's a typo in your chart specification. See the javascript console for the full traceback.`));\n",
       "    }\n",
       "\n",
       "    if(typeof define === \"function\" && define.amd) {\n",
       "      requirejs.config({paths});\n",
       "      require([\"vega-embed\"], displayChart, err => showError(`Error loading script: ${err.message}`));\n",
       "    } else if (typeof vegaEmbed === \"function\") {\n",
       "      displayChart(vegaEmbed);\n",
       "    } else {\n",
       "      loadScript(\"vega\")\n",
       "        .then(() => loadScript(\"vega-lite\"))\n",
       "        .then(() => loadScript(\"vega-embed\"))\n",
       "        .catch(showError)\n",
       "        .then(() => displayChart(vegaEmbed));\n",
       "    }\n",
       "  })({\"config\": {\"axis\": {\"domainColor\": \"green\"}, \"view\": {\"width\": 300, \"height\": 300}, \"title\": {\"fontSize\": 25, \"dy\": -15, \"font\": \"utopia-std, serif\"}}, \"encoding\": {\"y\": {\"axis\": {\"title\": \"Immatricolazioni Auto Ibride\"}, \"scale\": {\"domain\": [0, 40000]}}, \"x\": {\"axis\": {\"title\": \"Anno\", \"labelAngle\": 0}}}, \"layer\": [{\"data\": {\"name\": \"data-0caac22e0cde9bd71f1ead572e3ba5c1\"}, \"mark\": {\"type\": \"bar\", \"tooltip\": true}, \"encoding\": {\"color\": {\"condition\": {\"value\": \"#154734\", \"test\": \"(datum.Year === 2020)\"}, \"value\": \"lightgrey\"}, \"tooltip\": [{\"type\": \"nominal\", \"field\": \"Year\", \"title\": \"Anno\"}, {\"type\": \"quantitative\", \"field\": \"Value\", \"format\": \",\", \"title\": \"Immatricolazioni\"}], \"x\": {\"type\": \"nominal\", \"axis\": {\"labelAngle\": 0, \"labelFont\": \"utopia-std, serif\", \"labelFontSize\": 16, \"titleFont\": \"utopia-std, serif\", \"titleFontSize\": 18}, \"field\": \"Year\", \"title\": \"Anno\"}, \"y\": {\"type\": \"quantitative\", \"axis\": {\"labelAngle\": 0, \"labelFont\": \"utopia-std, serif\", \"labelFontSize\": 16, \"titleFont\": \"utopia-std, serif\", \"titleFontSize\": 18}, \"field\": \"Value\", \"scale\": {\"domain\": [0, 40000]}, \"title\": \"Immatricolazioni Auto Ibride\"}}}, {\"data\": {\"name\": \"data-ef28567f4f1c9c9b6879916bfe26aca9\"}, \"mark\": {\"type\": \"line\", \"color\": \"#154734\"}, \"encoding\": {\"x\": {\"type\": \"nominal\", \"axis\": {\"labelAngle\": 0, \"labelFont\": \"utopia-std, serif\", \"labelFontSize\": 16, \"titleFont\": \"utopia-std, serif\", \"titleFontSize\": 18}, \"field\": \"Year\", \"title\": \"Anno\"}, \"y\": {\"type\": \"quantitative\", \"axis\": {\"labelAngle\": 0, \"labelFont\": \"utopia-std, serif\", \"labelFontSize\": 16, \"titleFont\": \"utopia-std, serif\", \"titleFontSize\": 18}, \"field\": \"Value\", \"scale\": {\"domain\": [0, 40000]}, \"title\": \"Immatricolazioni Auto Ibride\"}}}, {\"data\": {\"name\": \"data-0caac22e0cde9bd71f1ead572e3ba5c1\"}, \"mark\": {\"type\": \"text\", \"color\": \"green\", \"dx\": -5, \"font\": \"utopia-std, serif\", \"fontSize\": 30, \"text\": \"+117% nel 2020\", \"x\": 150.0, \"y\": 20}, \"encoding\": {}}], \"height\": 300, \"title\": \"Immatricolazioni Auto Ibride\", \"width\": 300, \"$schema\": \"https://vega.github.io/schema/vega-lite/v4.8.1.json\", \"datasets\": {\"data-0caac22e0cde9bd71f1ead572e3ba5c1\": [{\"Year\": 2018, \"Value\": 4800}, {\"Year\": 2019, \"Value\": 12400}, {\"Year\": 2020, \"Value\": 32000}], \"data-ef28567f4f1c9c9b6879916bfe26aca9\": [{\"Year\": 2018, \"Value\": 4800}, {\"Year\": 2018, \"Value\": 35000}, {\"Year\": 2020, \"Value\": 35000}, {\"Year\": 2020, \"Value\": 32000}]}}, {\"mode\": \"vega-lite\"});\n",
       "</script>"
      ],
      "text/plain": [
       "alt.LayerChart(...)"
      ]
     },
     "execution_count": 709,
     "metadata": {},
     "output_type": "execute_result"
    }
   ],
   "source": [
    "final_chart = bar + line + text\n",
    "final_chart = final_chart.configure_title(\n",
    "    fontSize=25,\n",
    "    dy = -15,\n",
    "    font=font,\n",
    ").properties(title=title,width=width,height=height)\n",
    "\n",
    "final_chart"
   ]
  },
  {
   "cell_type": "markdown",
   "metadata": {},
   "source": [
    "Finally, I save the graph as an HTML page, which can be included everywhere in a Web site."
   ]
  },
  {
   "cell_type": "code",
   "execution_count": 710,
   "metadata": {},
   "outputs": [],
   "source": [
    "final_chart.save('html/auto_ibride.html', embed_options={'actions': False})"
   ]
  },
  {
   "cell_type": "code",
   "execution_count": null,
   "metadata": {},
   "outputs": [],
   "source": []
  }
 ],
 "metadata": {
  "kernelspec": {
   "display_name": "Python 3",
   "language": "python",
   "name": "python3"
  },
  "language_info": {
   "codemirror_mode": {
    "name": "ipython",
    "version": 3
   },
   "file_extension": ".py",
   "mimetype": "text/x-python",
   "name": "python",
   "nbconvert_exporter": "python",
   "pygments_lexer": "ipython3",
   "version": "3.8.1"
  }
 },
 "nbformat": 4,
 "nbformat_minor": 4
}
