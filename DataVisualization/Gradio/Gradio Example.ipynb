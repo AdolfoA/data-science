{
 "cells": [
  {
   "cell_type": "markdown",
   "metadata": {},
   "source": [
    "# Gradio Tutorial\n",
    "This short tutorial describes how to build a quick interactive interface in Gradio. You can install Gradio through the command `!pip install gradio`."
   ]
  },
  {
   "cell_type": "markdown",
   "metadata": {},
   "source": [
    "# Basic Interface\n",
    "This first example builds an interface which reads a text from a textbox, then it anonymises dates contained in the text and finally displays the anonymised text.\n",
    "\n",
    "Firstly, I define a function, called `anonymise_text()` which takes as input a text, and then replaces all the dates contained in the text with a HTML text, which highlights the anonymised dates."
   ]
  },
  {
   "cell_type": "code",
   "execution_count": 105,
   "metadata": {},
   "outputs": [],
   "source": [
    "import re\n",
    "\n",
    "def anonymise_date(txt):\n",
    "    date_RE=\"(\\d{1,2}[\\.-/]\\d{1,2}[\\.-/]\\d{4})|(\\d{4})\"\n",
    "    matches=re.findall(date_RE,txt)\n",
    "    if matches:\n",
    "        for match in matches:\n",
    "            index = 0\n",
    "            if match[index] == '':\n",
    "                index = 1\n",
    "            txt = txt.replace(match[index], \"<span style='background-color:yellow'>XXXXXX</span>\")\n",
    "    return txt"
   ]
  },
  {
   "cell_type": "markdown",
   "metadata": {},
   "source": [
    "Then, I import the Gradio package and I build the `Interface()` object, which receives as input the following parameters: \n",
    "* the `anomyise_date` function previously defined\n",
    "* an input textbox `gr.inputs.Textbox()`, which will capture the input text. The textbox receives as input a placeholder, which contains the default text\n",
    "* an output HTML object, which will contain the result returned by the `anonymise_date()` function\n",
    "* a list of some default texts, identified through the `examples` keyword, which can be used by the user."
   ]
  },
  {
   "cell_type": "code",
   "execution_count": 135,
   "metadata": {},
   "outputs": [],
   "source": [
    "import gradio as gr\n",
    "\n",
    "iface = gr.Interface(\n",
    "    anonymise_date,\n",
    "    gr.inputs.Textbox(placeholder=\"Enter sentence here...\"),\n",
    "    gr.outputs.HTML(),\n",
    "    examples=[\n",
    "        [\"William Shakespeare was born on 26/04/1616\"],\n",
    "        [\"I will go there on 20/03/2022.\"],\n",
    "    ]\n",
    ")"
   ]
  },
  {
   "cell_type": "markdown",
   "metadata": {},
   "source": [
    "Finally, I launch the Interface:"
   ]
  },
  {
   "cell_type": "code",
   "execution_count": 136,
   "metadata": {},
   "outputs": [
    {
     "name": "stdout",
     "output_type": "stream",
     "text": [
      "Running locally at: http://127.0.0.1:7903/\n",
      "To create a public link, set `share=True` in `launch()`.\n",
      "Interface loading below...\n"
     ]
    },
    {
     "data": {
      "text/html": [
       "\n",
       "        <iframe\n",
       "            width=\"900\"\n",
       "            height=\"500\"\n",
       "            src=\"http://127.0.0.1:7903/\"\n",
       "            frameborder=\"0\"\n",
       "            allowfullscreen\n",
       "        ></iframe>\n",
       "        "
      ],
      "text/plain": [
       "<IPython.lib.display.IFrame at 0x1323e78b0>"
      ]
     },
     "metadata": {},
     "output_type": "display_data"
    },
    {
     "data": {
      "text/plain": [
       "(<Flask 'gradio.networking'>, 'http://127.0.0.1:7903/', None)"
      ]
     },
     "execution_count": 136,
     "metadata": {},
     "output_type": "execute_result"
    }
   ],
   "source": [
    "iface.launch()"
   ]
  },
  {
   "cell_type": "markdown",
   "metadata": {},
   "source": [
    "# Advanced Interface\n",
    "Now I can improve the previous example, by replacing the textbox with a file uploaded dynamically through the interface. In this example, I manage only plain text files (e.g. txt). Gradio uploads a file as a [temporary file](https://docs.python.org/3/library/tempfile.html). \n",
    "\n",
    "I define a function, called `process_text()` which receives as input a temporary file, checks its extension, reads the file content and finally returns the original text as well as the anonymised one. Note that the extension for a txt temporary file is not .txt but .plain."
   ]
  },
  {
   "cell_type": "code",
   "execution_count": 133,
   "metadata": {},
   "outputs": [],
   "source": [
    "def process_text(tmp_file):\n",
    "    if not tmp_file.name.endswith('.plain'):\n",
    "        return 'Not Supported File. Please provide a txt file', ''\n",
    "    with open(tmp_file.name, 'r') as f:\n",
    "        txt = f.read()\n",
    "\n",
    "    return txt, anonymise_date(txt)"
   ]
  },
  {
   "cell_type": "markdown",
   "metadata": {},
   "source": [
    "Now I can build the interface. With respect to the previous example, I pass a `gr.inputs.File()` object as input and I build a list of output files."
   ]
  },
  {
   "cell_type": "code",
   "execution_count": 134,
   "metadata": {},
   "outputs": [
    {
     "name": "stdout",
     "output_type": "stream",
     "text": [
      "Running locally at: http://127.0.0.1:7902/\n",
      "To create a public link, set `share=True` in `launch()`.\n",
      "Interface loading below...\n"
     ]
    },
    {
     "data": {
      "text/html": [
       "\n",
       "        <iframe\n",
       "            width=\"900\"\n",
       "            height=\"500\"\n",
       "            src=\"http://127.0.0.1:7902/\"\n",
       "            frameborder=\"0\"\n",
       "            allowfullscreen\n",
       "        ></iframe>\n",
       "        "
      ],
      "text/plain": [
       "<IPython.lib.display.IFrame at 0x13ba21370>"
      ]
     },
     "metadata": {},
     "output_type": "display_data"
    },
    {
     "data": {
      "text/plain": [
       "(<Flask 'gradio.networking'>, 'http://127.0.0.1:7902/', None)"
      ]
     },
     "execution_count": 134,
     "metadata": {},
     "output_type": "execute_result"
    }
   ],
   "source": [
    "iface = gr.Interface(\n",
    "    process_text,\n",
    "    gr.inputs.File(label='Upload TXT file'),\n",
    "    [gr.outputs.HTML(label='Original Text'),gr.outputs.HTML(label='Anonymised Text')],\n",
    ")\n",
    "\n",
    "iface.launch()"
   ]
  },
  {
   "cell_type": "code",
   "execution_count": null,
   "metadata": {},
   "outputs": [],
   "source": []
  }
 ],
 "metadata": {
  "kernelspec": {
   "display_name": "Python 3",
   "language": "python",
   "name": "python3"
  },
  "language_info": {
   "codemirror_mode": {
    "name": "ipython",
    "version": 3
   },
   "file_extension": ".py",
   "mimetype": "text/x-python",
   "name": "python",
   "nbconvert_exporter": "python",
   "pygments_lexer": "ipython3",
   "version": "3.8.1"
  }
 },
 "nbformat": 4,
 "nbformat_minor": 4
}
